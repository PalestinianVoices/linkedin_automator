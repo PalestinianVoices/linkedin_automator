{
 "cells": [
  {
   "cell_type": "code",
   "execution_count": 4,
   "metadata": {},
   "outputs": [
    {
     "data": {
      "text/plain": [
       "True"
      ]
     },
     "execution_count": 4,
     "metadata": {},
     "output_type": "execute_result"
    }
   ],
   "source": [
    "import os\n",
    "from dotenv import load_dotenv\n",
    "import chromedriver_autoinstaller \n",
    "import undetected_chromedriver as uc \n",
    "\n",
    "chromedriver_autoinstaller.install()\n",
    "driver = uc.Chrome(headless=False, use_subprocess=False)\n",
    "\n",
    "load_dotenv()\n"
   ]
  },
  {
   "cell_type": "code",
   "execution_count": 5,
   "metadata": {},
   "outputs": [
    {
     "name": "stdout",
     "output_type": "stream",
     "text": [
      "stand-with-palestine@outlook.com Palestine1948 https://www.linkedin.com/in/purger-elo-518265328\n"
     ]
    }
   ],
   "source": [
    "\n",
    "# Get credentials from .env file\n",
    "linkedin_email = os.getenv(\"LINKEDIN_EMAIL\")\n",
    "linkedin_password = os.getenv(\"LINKEDIN_PASSWORD\")\n",
    "# LinkedIN post URL\n",
    "post_url=\"https://www.linkedin.com/feed/update/urn:li:activity:7238229706053935104/\"\n",
    " # Person to delete comment/reply\n",
    "commenter_link = \"https://www.linkedin.com/in/purger-elo-518265328\"\n",
    "print(linkedin_email, linkedin_password, commenter_link)"
   ]
  },
  {
   "cell_type": "code",
   "execution_count": 6,
   "metadata": {},
   "outputs": [
    {
     "name": "stdout",
     "output_type": "stream",
     "text": [
      "https://www.linkedin.com/in/purger-elo-518265328\n",
      "href https://www.linkedin.com/in/purger-elo-518265328\n",
      "True\n",
      "-----------------\n",
      "\n",
      "we are in\n",
      "An error occurred: Message: javascript error: arguments[0].click is not a function\n",
      "  (Session info: chrome=128.0.6613.120)\n",
      "Stacktrace:\n",
      "0   undetected_chromedriver             0x0000000104f27248 undetected_chromedriver + 5096008\n",
      "1   undetected_chromedriver             0x0000000104f1ea7a undetected_chromedriver + 5061242\n",
      "2   undetected_chromedriver             0x0000000104aa9fd0 undetected_chromedriver + 389072\n",
      "3   undetected_chromedriver             0x0000000104ab0189 undetected_chromedriver + 414089\n",
      "4   undetected_chromedriver             0x0000000104ab1e09 undetected_chromedriver + 421385\n",
      "5   undetected_chromedriver             0x0000000104b391c4 undetected_chromedriver + 975300\n",
      "6   undetected_chromedriver             0x0000000104b1aef2 undetected_chromedriver + 851698\n",
      "7   undetected_chromedriver             0x0000000104b38250 undetected_chromedriver + 971344\n",
      "8   undetected_chromedriver             0x0000000104b1ac93 undetected_chromedriver + 851091\n",
      "9   undetected_chromedriver             0x0000000104ae9c79 undetected_chromedriver + 650361\n",
      "10  undetected_chromedriver             0x0000000104aea49e undetected_chromedriver + 652446\n",
      "11  undetected_chromedriver             0x0000000104ee9fc0 undetected_chromedriver + 4845504\n",
      "12  undetected_chromedriver             0x0000000104eeeed8 undetected_chromedriver + 4865752\n",
      "13  undetected_chromedriver             0x0000000104eef5a5 undetected_chromedriver + 4867493\n",
      "14  undetected_chromedriver             0x0000000104eccbf9 undetected_chromedriver + 4725753\n",
      "15  undetected_chromedriver             0x0000000104eef899 undetected_chromedriver + 4868249\n",
      "16  undetected_chromedriver             0x0000000104ebeb14 undetected_chromedriver + 4668180\n",
      "17  undetected_chromedriver             0x0000000104f0ed78 undetected_chromedriver + 4996472\n",
      "18  undetected_chromedriver             0x0000000104f0ef77 undetected_chromedriver + 4996983\n",
      "19  undetected_chromedriver             0x0000000104f1e67e undetected_chromedriver + 5060222\n",
      "20  libsystem_pthread.dylib             0x00007ff81301418b _pthread_start + 99\n",
      "21  libsystem_pthread.dylib             0x00007ff81300fae3 thread_start + 15\n",
      "\n",
      "https://www.linkedin.com/in/purger-elo-518265328\n",
      "href https://www.linkedin.com/in/victoria-schaumburger-98944b56\n",
      "False\n",
      "-----------------\n",
      "\n",
      "https://www.linkedin.com/in/purger-elo-518265328\n",
      "href https://www.linkedin.com/in/silvi%F0%9F%8E%97%EF%B8%8F-a-811463102\n",
      "False\n",
      "-----------------\n",
      "\n",
      "https://www.linkedin.com/in/purger-elo-518265328\n",
      "href https://www.linkedin.com/in/jeff-coelho-6b5b88\n",
      "False\n",
      "-----------------\n",
      "\n",
      "https://www.linkedin.com/in/purger-elo-518265328\n",
      "href https://www.linkedin.com/in/jeff-coelho-6b5b88\n",
      "False\n",
      "-----------------\n",
      "\n",
      "https://www.linkedin.com/in/purger-elo-518265328\n",
      "href https://www.linkedin.com/in/hebahussien\n",
      "False\n",
      "-----------------\n",
      "\n",
      "https://www.linkedin.com/in/purger-elo-518265328\n",
      "href https://www.linkedin.com/in/syada-maimoona-saberi-a0110430\n",
      "False\n",
      "-----------------\n",
      "\n",
      "https://www.linkedin.com/in/purger-elo-518265328\n",
      "href https://www.linkedin.com/in/syada-maimoona-saberi-a0110430\n",
      "False\n",
      "-----------------\n",
      "\n",
      "https://www.linkedin.com/in/purger-elo-518265328\n",
      "href https://www.linkedin.com/in/hebahussien\n",
      "False\n",
      "-----------------\n",
      "\n"
     ]
    },
    {
     "ename": "KeyboardInterrupt",
     "evalue": "",
     "output_type": "error",
     "traceback": [
      "\u001b[0;31m---------------------------------------------------------------------------\u001b[0m",
      "\u001b[0;31mKeyboardInterrupt\u001b[0m                         Traceback (most recent call last)",
      "Cell \u001b[0;32mIn[6], line 68\u001b[0m\n\u001b[1;32m     66\u001b[0m driver\u001b[38;5;241m.\u001b[39mexecute_script(\u001b[38;5;124m\"\u001b[39m\u001b[38;5;124mwindow.scrollTo(0, document.body.scrollHeight);\u001b[39m\u001b[38;5;124m\"\u001b[39m)\n\u001b[1;32m     67\u001b[0m scrolls_since_not_found \u001b[38;5;241m+\u001b[39m\u001b[38;5;241m=\u001b[39m \u001b[38;5;241m1\u001b[39m\n\u001b[0;32m---> 68\u001b[0m \u001b[43mtime\u001b[49m\u001b[38;5;241;43m.\u001b[39;49m\u001b[43msleep\u001b[49m\u001b[43m(\u001b[49m\u001b[38;5;241;43m3\u001b[39;49m\u001b[43m)\u001b[49m\n\u001b[1;32m     69\u001b[0m \u001b[38;5;28;01mif\u001b[39;00m scrolls_since_not_found \u001b[38;5;241m>\u001b[39m \u001b[38;5;241m10\u001b[39m:\n\u001b[1;32m     70\u001b[0m     \u001b[38;5;28mprint\u001b[39m(\u001b[38;5;124m\"\u001b[39m\u001b[38;5;124mCould not find the comment. Exiting.\u001b[39m\u001b[38;5;124m\"\u001b[39m)\n",
      "\u001b[0;31mKeyboardInterrupt\u001b[0m: "
     ]
    }
   ],
   "source": [
    "from selenium import webdriver\n",
    "from selenium.webdriver.common.by import By\n",
    "from selenium.webdriver.chrome.service import Service\n",
    "from selenium.webdriver.common.keys import Keys\n",
    "from dotenv import load_dotenv\n",
    "import os\n",
    "import time\n",
    "\n",
    "# Initialize WebDriver (assumes it is in the same directory)\n",
    "# driver = webdriver.Chrome(service=Service('./chromedriver'))\n",
    "\n",
    "# Log in to LinkedIn\n",
    "driver.get(\"https://www.linkedin.com/login\")\n",
    "time.sleep(2)\n",
    "\n",
    "email_input = driver.find_element(By.ID, \"username\")\n",
    "password_input = driver.find_element(By.ID, \"password\")\n",
    "\n",
    "email_input.send_keys(linkedin_email)\n",
    "password_input.send_keys(linkedin_password)\n",
    "password_input.send_keys(Keys.RETURN)\n",
    "\n",
    "# Navigate to the post\n",
    "time.sleep(5)\n",
    "driver.get(post_url)\n",
    "time.sleep(5)\n",
    "\n",
    "# Scroll down to load comments and search for the comment\n",
    "found_comment = False\n",
    "scrolls_since_not_found = 0\n",
    "while not found_comment:\n",
    "    comments = driver.find_elements(By.CLASS_NAME, \"comments-comment-entity\")\n",
    "    for comment in comments:\n",
    "        try:\n",
    "            commenter_anchor = comment.find_element(By.CLASS_NAME, \"comments-comment-meta__image-link\")\n",
    "            # check if the commenter anchor has commenter_link\n",
    "            print(commenter_link)\n",
    "            print(\"href\", commenter_anchor.get_attribute(\"href\"))\n",
    "            print(commenter_link in commenter_anchor.get_attribute(\"href\"))\n",
    "            print(\"-----------------\\n\")\n",
    "            if commenter_link in commenter_anchor.get_attribute(\"href\"):\n",
    "                print(\"we are in\")\n",
    "                # Click the options button (three dots) next to the comment\n",
    "                options_button = comment.find_element(By.CLASS_NAME, \"comment-options-dropdown__trigger-icon\")\n",
    "                driver.execute_script(\"arguments[0].click();\", options_button)\n",
    "\n",
    "                time.sleep(1)\n",
    "\n",
    "                # Click the 'Delete' option from the dropdown menu\n",
    "                delete_option = driver.find_element(By.XPATH, \"//span[text()='Delete']\")\n",
    "                #delete_option.click()\n",
    "                driver.execute_script(\"arguments[0].click();\", delete_option)\n",
    "                time.sleep(1)\n",
    "\n",
    "                # Confirm the deletion (element has css artdeco-button--primary)\n",
    "                confirm_button = driver.find_element(By.CLASS_NAME, \"artdeco-button--primary\")\n",
    "                #confirm_button.click()\n",
    "                driver.execute_script(\"arguments[0].click();\", confirm_button)\n",
    "                time.sleep(1)\n",
    "                print(f\"Deleted comment by {commenter_link}\")\n",
    "                # found_comment = True\n",
    "                # break\n",
    "        except Exception as e:\n",
    "            print(f\"An error occurred: {e}\")\n",
    "    # if not found_comment:\n",
    "        driver.execute_script(\"window.scrollTo(0, document.body.scrollHeight);\")\n",
    "        scrolls_since_not_found += 1\n",
    "        time.sleep(3)\n",
    "        if scrolls_since_not_found > 10:\n",
    "            print(\"Could not find the comment. Exiting.\")\n",
    "            break\n",
    "\n",
    "# Close the browser\n",
    "driver.quit()\n",
    "\n",
    "# https://www.linkedin.com/in/silvi%F0%9F%8E%97%EF%B8%8F-a-811463102/"
   ]
  },
  {
   "cell_type": "code",
   "execution_count": null,
   "metadata": {},
   "outputs": [],
   "source": []
  }
 ],
 "metadata": {
  "kernelspec": {
   "display_name": "m1",
   "language": "python",
   "name": "python3"
  },
  "language_info": {
   "codemirror_mode": {
    "name": "ipython",
    "version": 3
   },
   "file_extension": ".py",
   "mimetype": "text/x-python",
   "name": "python",
   "nbconvert_exporter": "python",
   "pygments_lexer": "ipython3",
   "version": "3.12.4"
  }
 },
 "nbformat": 4,
 "nbformat_minor": 2
}
