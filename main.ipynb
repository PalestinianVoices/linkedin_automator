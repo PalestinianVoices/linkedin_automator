{
 "cells": [
  {
   "cell_type": "markdown",
   "metadata": {},
   "source": [
    "## Linkedin Automator"
   ]
  },
  {
   "cell_type": "markdown",
   "metadata": {},
   "source": [
    "A Python library to automate various operations on LinkedIn posts, comments, and replies. So far, it supports the following features:\n",
    "- Viewing all comments on posts (as well as last two replies) for each\n",
    "- Deleting a comment or more given their links\n",
    "- Deleting comments written by specific users across a number of posts "
   ]
  },
  {
   "cell_type": "markdown",
   "metadata": {},
   "source": [
    "### 🚀 Installation\n",
    "```\n",
    "pip install linkedin-automator\n",
    "```"
   ]
  },
  {
   "cell_type": "markdown",
   "metadata": {},
   "source": [
    "### 📒 Guide"
   ]
  },
  {
   "cell_type": "markdown",
   "metadata": {},
   "source": [
    "Set in you `.env`:\n",
    "```\n",
    "LINKEDIN_EMAIL=...\n",
    "LINKEDIN_PASSWORD=...\n",
    "LINKEDIN_ACCESS_TOKEN=...\n",
    "LINKEDIN_ACTOR_URN=...\n",
    "```"
   ]
  },
  {
   "cell_type": "markdown",
   "metadata": {},
   "source": [
    "Import the package and instantiate"
   ]
  },
  {
   "cell_type": "code",
   "execution_count": 1,
   "metadata": {},
   "outputs": [],
   "source": [
    "from linkedin_automator import LinkedInAutomator\n",
    "\n",
    "auto = LinkedInAutomator()"
   ]
  },
  {
   "cell_type": "markdown",
   "metadata": {},
   "source": [
    "Viewing comments on a post and deleting comments given a link:"
   ]
  },
  {
   "cell_type": "code",
   "execution_count": null,
   "metadata": {},
   "outputs": [],
   "source": [
    "# Get comments on a post\n",
    "comments_info = auto.get_comments('https://www.linkedin.com/feed/update/...')\n",
    "\n",
    "# Delete comment given link\n",
    "auto.purge_comment_given_link('https://www.linkedin.com/feed/update/...')\n",
    "# Delete multiple comments\n",
    "comment_links = [\n",
    "    'https://www.linkedin.com/feed/update/...',\n",
    "    'https://www.linkedin.com/feed/update/...'\n",
    "]\n",
    "auto.purge_comments_given_links(comment_links)"
   ]
  },
  {
   "cell_type": "code",
   "execution_count": null,
   "metadata": {},
   "outputs": [],
   "source": [
    "profile_ids = ['abc-def-1999', 'ggref-please']\n",
    "post_urls = [\n",
    "             'https://www.linkedin.com/feed/update/...', \n",
    "             'https://www.linkedin.com/feed/update/...'\n",
    "             ]\n",
    "auto.purge_comments(post_urls, profile_ids)"
   ]
  },
  {
   "cell_type": "code",
   "execution_count": 5,
   "metadata": {},
   "outputs": [
    {
     "name": "stdout",
     "output_type": "stream",
     "text": [
      "Requirement already satisfied: nbconvert in /Users/essamwisam/miniconda3/envs/m1/lib/python3.12/site-packages (7.16.4)\n",
      "Requirement already satisfied: beautifulsoup4 in /Users/essamwisam/miniconda3/envs/m1/lib/python3.12/site-packages (from nbconvert) (4.12.3)\n",
      "Requirement already satisfied: bleach!=5.0.0 in /Users/essamwisam/miniconda3/envs/m1/lib/python3.12/site-packages (from nbconvert) (6.1.0)\n",
      "Requirement already satisfied: defusedxml in /Users/essamwisam/miniconda3/envs/m1/lib/python3.12/site-packages (from nbconvert) (0.7.1)\n",
      "Requirement already satisfied: jinja2>=3.0 in /Users/essamwisam/miniconda3/envs/m1/lib/python3.12/site-packages (from nbconvert) (3.1.4)\n",
      "Requirement already satisfied: jupyter-core>=4.7 in /Users/essamwisam/miniconda3/envs/m1/lib/python3.12/site-packages (from nbconvert) (5.7.2)\n",
      "Requirement already satisfied: jupyterlab-pygments in /Users/essamwisam/miniconda3/envs/m1/lib/python3.12/site-packages (from nbconvert) (0.3.0)\n",
      "Requirement already satisfied: markupsafe>=2.0 in /Users/essamwisam/miniconda3/envs/m1/lib/python3.12/site-packages (from nbconvert) (2.1.3)\n",
      "Requirement already satisfied: mistune<4,>=2.0.3 in /Users/essamwisam/miniconda3/envs/m1/lib/python3.12/site-packages (from nbconvert) (3.0.2)\n",
      "Requirement already satisfied: nbclient>=0.5.0 in /Users/essamwisam/miniconda3/envs/m1/lib/python3.12/site-packages (from nbconvert) (0.10.0)\n",
      "Requirement already satisfied: nbformat>=5.7 in /Users/essamwisam/miniconda3/envs/m1/lib/python3.12/site-packages (from nbconvert) (5.10.4)\n",
      "Requirement already satisfied: packaging in /Users/essamwisam/miniconda3/envs/m1/lib/python3.12/site-packages (from nbconvert) (24.1)\n",
      "Requirement already satisfied: pandocfilters>=1.4.1 in /Users/essamwisam/miniconda3/envs/m1/lib/python3.12/site-packages (from nbconvert) (1.5.1)\n",
      "Requirement already satisfied: pygments>=2.4.1 in /Users/essamwisam/miniconda3/envs/m1/lib/python3.12/site-packages (from nbconvert) (2.18.0)\n",
      "Requirement already satisfied: tinycss2 in /Users/essamwisam/miniconda3/envs/m1/lib/python3.12/site-packages (from nbconvert) (1.3.0)\n",
      "Requirement already satisfied: traitlets>=5.1 in /Users/essamwisam/miniconda3/envs/m1/lib/python3.12/site-packages (from nbconvert) (5.14.3)\n",
      "Requirement already satisfied: six>=1.9.0 in /Users/essamwisam/miniconda3/envs/m1/lib/python3.12/site-packages (from bleach!=5.0.0->nbconvert) (1.16.0)\n",
      "Requirement already satisfied: webencodings in /Users/essamwisam/miniconda3/envs/m1/lib/python3.12/site-packages (from bleach!=5.0.0->nbconvert) (0.5.1)\n",
      "Requirement already satisfied: platformdirs>=2.5 in /Users/essamwisam/miniconda3/envs/m1/lib/python3.12/site-packages (from jupyter-core>=4.7->nbconvert) (4.2.2)\n",
      "Requirement already satisfied: jupyter-client>=6.1.12 in /Users/essamwisam/miniconda3/envs/m1/lib/python3.12/site-packages (from nbclient>=0.5.0->nbconvert) (8.6.2)\n",
      "Requirement already satisfied: fastjsonschema>=2.15 in /Users/essamwisam/miniconda3/envs/m1/lib/python3.12/site-packages (from nbformat>=5.7->nbconvert) (2.20.0)\n",
      "Requirement already satisfied: jsonschema>=2.6 in /Users/essamwisam/miniconda3/envs/m1/lib/python3.12/site-packages (from nbformat>=5.7->nbconvert) (4.22.0)\n",
      "Requirement already satisfied: soupsieve>1.2 in /Users/essamwisam/miniconda3/envs/m1/lib/python3.12/site-packages (from beautifulsoup4->nbconvert) (2.5)\n",
      "Requirement already satisfied: attrs>=22.2.0 in /Users/essamwisam/miniconda3/envs/m1/lib/python3.12/site-packages (from jsonschema>=2.6->nbformat>=5.7->nbconvert) (23.2.0)\n",
      "Requirement already satisfied: jsonschema-specifications>=2023.03.6 in /Users/essamwisam/miniconda3/envs/m1/lib/python3.12/site-packages (from jsonschema>=2.6->nbformat>=5.7->nbconvert) (2023.12.1)\n",
      "Requirement already satisfied: referencing>=0.28.4 in /Users/essamwisam/miniconda3/envs/m1/lib/python3.12/site-packages (from jsonschema>=2.6->nbformat>=5.7->nbconvert) (0.35.1)\n",
      "Requirement already satisfied: rpds-py>=0.7.1 in /Users/essamwisam/miniconda3/envs/m1/lib/python3.12/site-packages (from jsonschema>=2.6->nbformat>=5.7->nbconvert) (0.18.1)\n",
      "Requirement already satisfied: python-dateutil>=2.8.2 in /Users/essamwisam/miniconda3/envs/m1/lib/python3.12/site-packages (from jupyter-client>=6.1.12->nbclient>=0.5.0->nbconvert) (2.9.0)\n",
      "Requirement already satisfied: pyzmq>=23.0 in /Users/essamwisam/miniconda3/envs/m1/lib/python3.12/site-packages (from jupyter-client>=6.1.12->nbclient>=0.5.0->nbconvert) (25.1.2)\n",
      "Requirement already satisfied: tornado>=6.2 in /Users/essamwisam/miniconda3/envs/m1/lib/python3.12/site-packages (from jupyter-client>=6.1.12->nbclient>=0.5.0->nbconvert) (6.4.1)\n",
      "\u001b[33mWARNING: Error parsing dependencies of omegaconf: .* suffix can only be used with `==` or `!=` operators\n",
      "    PyYAML (>=5.1.*)\n",
      "            ~~~~~~^\u001b[0m\u001b[33m\n",
      "\u001b[0mzsh:1: command not found: nbconvert\n"
     ]
    }
   ],
   "source": [
    "!pip install nbconvert\n",
    "!nbconvert --to markdown main.ipynb"
   ]
  },
  {
   "cell_type": "code",
   "execution_count": null,
   "metadata": {},
   "outputs": [],
   "source": []
  }
 ],
 "metadata": {
  "kernelspec": {
   "display_name": "m1",
   "language": "python",
   "name": "python3"
  },
  "language_info": {
   "codemirror_mode": {
    "name": "ipython",
    "version": 3
   },
   "file_extension": ".py",
   "mimetype": "text/x-python",
   "name": "python",
   "nbconvert_exporter": "python",
   "pygments_lexer": "ipython3",
   "version": "3.12.4"
  }
 },
 "nbformat": 4,
 "nbformat_minor": 2
}
