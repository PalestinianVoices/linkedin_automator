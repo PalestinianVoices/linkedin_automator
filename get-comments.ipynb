{
 "cells": [
  {
   "cell_type": "code",
   "execution_count": 12,
   "metadata": {},
   "outputs": [],
   "source": [
    "from linkedin_api import Linkedin"
   ]
  },
  {
   "cell_type": "code",
   "execution_count": 15,
   "metadata": {},
   "outputs": [],
   "source": [
    "api = Linkedin('stand-with-palestine@outlook.com', 'Palestine1948')"
   ]
  },
  {
   "cell_type": "code",
   "execution_count": 178,
   "metadata": {},
   "outputs": [
    {
     "data": {
      "text/plain": [
       "{'urn': 'urn:li:member:9159810',\n",
       " 'miniProfile': {'firstName': 'Gussan',\n",
       "  'lastName': 'H - Opinions Are My Own',\n",
       "  'dashEntityUrn': 'urn:li:fsd_profile:ACoAAACLxIIBQ2XUU8OXuTv2odBQKtxmf5_vbCY',\n",
       "  'occupation': 'Digital Transformation Technology Leader',\n",
       "  'objectUrn': 'urn:li:member:9159810',\n",
       "  'entityUrn': 'urn:li:fs_miniProfile:ACoAAACLxIIBQ2XUU8OXuTv2odBQKtxmf5_vbCY',\n",
       "  '$anti_abuse_metadata': {'$anti_abuse_uuid': '44b4ed12-94b7-41f9-b380-2693eb4f8cf9'},\n",
       "  'backgroundImage': {'com.linkedin.common.VectorImage': {'artifacts': [{'width': 800,\n",
       "      'fileIdentifyingUrlPathSegment': '200_800/profile-displaybackgroundimage-shrink_200_800/0/1719347651902?e=1732752000&v=beta&t=PkVSF3mwYzT9-UHrLU9nR_6yDGqeeLHbARjDXkg9LZ4',\n",
       "      'expiresAt': 1732752000000,\n",
       "      'height': 200},\n",
       "     {'width': 1400,\n",
       "      'fileIdentifyingUrlPathSegment': '350_1400/profile-displaybackgroundimage-shrink_350_1400/0/1719349913841?e=1732752000&v=beta&t=6ef7d5GrUW5y8_SeL8yWF4ST8_EQqs5LLC9ppf9Jc4k',\n",
       "      'expiresAt': 1732752000000,\n",
       "      'height': 350}],\n",
       "    'rootUrl': 'https://media.licdn.com/dms/image/v2/D4E16AQHSSJ5Z0NElRw/profile-displaybackgroundimage-shrink_'}},\n",
       "  'publicIdentifier': 'dt-it-leader',\n",
       "  'trackingId': 'xkYwjCUMSF2PSH0C5ck+Qw=='},\n",
       " 'showFollowAction': False,\n",
       " 'followingInfo': {'entityUrn': 'urn:li:fs_followingInfo:urn:li:member:ACoAAACLxIIBQ2XUU8OXuTv2odBQKtxmf5_vbCY',\n",
       "  'dashFollowingStateUrn': 'urn:li:fsd_followingState:urn:li:fsd_profile:ACoAAACLxIIBQ2XUU8OXuTv2odBQKtxmf5_vbCY',\n",
       "  'following': False,\n",
       "  'trackingUrn': 'urn:li:member:9159810',\n",
       "  'followingType': 'DEFAULT'},\n",
       " 'distance': {'value': 'OUT_OF_NETWORK'},\n",
       " 'skillNames': []}"
      ]
     },
     "execution_count": 178,
     "metadata": {},
     "output_type": "execute_result"
    }
   ],
   "source": [
    "list(obj['commenter'].values())[0]"
   ]
  },
  {
   "cell_type": "code",
   "execution_count": 3,
   "metadata": {},
   "outputs": [],
   "source": [
    "import re\n",
    "\n",
    "def extract_urn(post_url_or_urn):\n",
    "    # Pattern for URN directly given as input\n",
    "    urn_pattern = r'(\\d+)'\n",
    "    # Pattern for the first URL form (feed/update/urn:li:activity)\n",
    "    pattern1 = r'urn:li:activity:(\\d+)'\n",
    "    # Pattern for the second URL form (activity-<ID>)\n",
    "    pattern2 = r'activity-(\\d+)'\n",
    "    \n",
    "    # Check if input is already a URN\n",
    "    urn_match = re.match(urn_pattern, post_url_or_urn)\n",
    "    if urn_match:\n",
    "        return urn_match.group(1)\n",
    "    \n",
    "    # Try matching the first URL form\n",
    "    urn_match = re.search(pattern1, post_url_or_urn)\n",
    "    if urn_match:\n",
    "        return urn_match.group(1)\n",
    "    \n",
    "    # Try matching the second URL form\n",
    "    urn_match = re.search(pattern2, post_url_or_urn)\n",
    "    if urn_match:\n",
    "        return urn_match.group(1)\n",
    "    \n",
    "    # Return None if no URN is found\n",
    "    return None"
   ]
  },
  {
   "cell_type": "code",
   "execution_count": 83,
   "metadata": {},
   "outputs": [
    {
     "data": {
      "text/plain": [
       "True"
      ]
     },
     "execution_count": 83,
     "metadata": {},
     "output_type": "execute_result"
    }
   ],
   "source": [
    "extract_urn(\"https://www.linkedin.com/feed/update/urn:li:activity:7243295716276629505\") == extract_urn(\"https://www.linkedin.com/posts/stand-with-palestine_standwithpalestine-stopgenocide-stopisrael-activity-7243295716276629505-Qt3g?utm_source=share&utm_medium=member_desktop\") == extract_urn(\"7243295716276629505\")==\"7243295716276629505\""
   ]
  },
  {
   "cell_type": "code",
   "execution_count": 89,
   "metadata": {},
   "outputs": [],
   "source": [
    "def count_comments_and_replies(comments_data):\n",
    "    total_comments = len(comments_data)  # Count the number of comments\n",
    "    total_replies = 0\n",
    "\n",
    "    # Iterate through each comment and count the number of replies\n",
    "    for comment in comments_data:\n",
    "        total_replies += len(comment.get('replies', []))  # Get the length of replies list, default to 0 if no replies\n",
    "\n",
    "    return total_comments + total_replies"
   ]
  },
  {
   "cell_type": "code",
   "execution_count": 5,
   "metadata": {},
   "outputs": [],
   "source": [
    "def get_comments_info(post_url, return_full_objects=False):\n",
    "    try:\n",
    "        # Use linked api package to get comments\n",
    "        comments = api.get_post_comments(post_urn=extract_urn(post_url), comment_count=200)\n",
    "    except Exception as e:\n",
    "        # Often fails if no comment\n",
    "        if \"paginationToken\" in str(e):\n",
    "            print(\"Pagination token error. Post may have no comments\")\n",
    "            return ([],[]) if return_full_objects else []\n",
    "        else:\n",
    "            print(\"An error occurred:\", e)\n",
    "    # List of comments/replies for the post\n",
    "    comments_info = []\n",
    "    for i, comment in enumerate(comments):\n",
    "        replies = []\n",
    "        # Get replies if any first\n",
    "        for reply in comments[i]['socialDetail']['comments']['elements']:\n",
    "            reply_commenter_obj = reply['commenter']\n",
    "            # Get the lone key inside the reply_comenter_obj which indicates user or company\n",
    "            profile_attr = next(iter(reply_commenter_obj))\n",
    "            # Set replier profileId\n",
    "            if profile_attr == 'com.linkedin.voyager.feed.MemberActor':\n",
    "                profileId = reply_commenter_obj[profile_attr]['miniProfile']['publicIdentifier']\n",
    "            else:\n",
    "                profileId = reply_commenter_obj[profile_attr]['miniCompany']['universalName']\n",
    "                # append reply info\n",
    "                replies.append({\n",
    "                    \"profileID\": profileId,\n",
    "                    \"link\": reply['permalink'],\n",
    "                    \"text\": reply[\"commentV2\"]['text'],\n",
    "                }\n",
    "                    )\n",
    "        # Get the lone key incommener obj defining normal user or company\n",
    "        commenter_obj = comment['commenter']\n",
    "        profile_attr = next(iter(commenter_obj))\n",
    "        # Set profileId accordingly\n",
    "        if profile_attr == 'com.linkedin.voyager.feed.MemberActor':\n",
    "            profileId = commenter_obj[profile_attr]['miniProfile']['publicIdentifier']\n",
    "        else:\n",
    "            profileId = commenter_obj[profile_attr]['miniCompany']['universalName']\n",
    "        # append comment into\n",
    "        comments_info.append(\n",
    "            {\n",
    "            \"profileID\": profileId,\n",
    "            \"link\": comment['permalink'],\n",
    "            \"text\": comment['comment']['values'][0]['value'],\n",
    "            \"replies\": replies\n",
    "            }\n",
    "            )\n",
    "    # comments is the full spaghetti object from the library \n",
    "    return (comments_info, comments) if return_full_objects else comments_info\n",
    "\n",
    "# post_url = \"https://www.linkedin.com/feed/update/urn:li:activity:7243337001804914688\"        \n",
    "# comments_info, comments_objs = get_comments_info(post_url, return_full_objects=True)"
   ]
  },
  {
   "cell_type": "code",
   "execution_count": 6,
   "metadata": {},
   "outputs": [],
   "source": [
    "def get_bad_comments_links(post_url, bad_profile_ids):\n",
    "    comments_info = get_comments_info(post_url)\n",
    "    bad_comments_links = []\n",
    "    # loop on each comment and add its link if its in bad_profile_ids\n",
    "    for comment in comments_info:\n",
    "        if comment['profileID'] in bad_profile_ids:\n",
    "            bad_comments_links.append(comment['link'])\n",
    "        # loop on each reply and add its link if its in bad_profile_ids\n",
    "        for reply in comment['replies']:\n",
    "            if reply['profileID'] in bad_profile_ids:\n",
    "                bad_comments_links.append(reply['link'])\n",
    "    return bad_comments_links\n",
    "\n",
    "def get_bad_comments_links_many_posts(post_urls, bad_profile_ids):\n",
    "    # apply get_bad_comments_links to each post and return result in one flattened list\n",
    "    bad_comments_links = []\n",
    "    for post_url in post_urls:\n",
    "        bad_comments_links.extend(get_bad_comments_links(post_url, bad_profile_ids))\n",
    "    return bad_comments_links\n",
    "\n",
    "\n",
    "bad_comments_links = get_bad_comments_links_many_posts([\n",
    "                                              \"https://www.linkedin.com/feed/update/urn:li:activity:7243337001804914688\",\n",
    "                                              \"https://www.linkedin.com/feed/update/urn:li:activity:7243318130352013312\",\n",
    "                                              \"https://www.linkedin.com/feed/update/urn:li:activity:7243306804628127745\",\n",
    "                                             ], [\"stand-with-palestine\", \"melek-d-700362106\", \"jonbarlowhudson\", \"dt-it-leader\", \"victoria-schaumburger-98944b56\", \"akmal-mirzaev\", \"nizar-alkhatib-26651057\"])"
   ]
  },
  {
   "cell_type": "code",
   "execution_count": 7,
   "metadata": {},
   "outputs": [
    {
     "data": {
      "text/plain": [
       "['https://www.linkedin.com/feed/update/urn:li:ugcPost:7243337000882200576?commentUrn=urn%3Ali%3Acomment%3A%28ugcPost%3A7243337000882200576%2C7243538404557164544%29&dashCommentUrn=urn%3Ali%3Afsd_comment%3A%287243538404557164544%2Curn%3Ali%3AugcPost%3A7243337000882200576%29',\n",
       " 'https://www.linkedin.com/feed/update/urn:li:ugcPost:7243337000882200576?commentUrn=urn%3Ali%3Acomment%3A%28ugcPost%3A7243337000882200576%2C7243621773353566208%29&dashCommentUrn=urn%3Ali%3Afsd_comment%3A%287243621773353566208%2Curn%3Ali%3AugcPost%3A7243337000882200576%29',\n",
       " 'https://www.linkedin.com/feed/update/urn:li:ugcPost:7243337000882200576?commentUrn=urn%3Ali%3Acomment%3A%28ugcPost%3A7243337000882200576%2C7243548676856455169%29&dashCommentUrn=urn%3Ali%3Afsd_comment%3A%287243548676856455169%2Curn%3Ali%3AugcPost%3A7243337000882200576%29',\n",
       " 'https://www.linkedin.com/feed/update/urn:li:ugcPost:7243337000882200576?commentUrn=urn%3Ali%3Acomment%3A%28ugcPost%3A7243337000882200576%2C7243548676856455169%29&replyUrn=urn%3Ali%3Acomment%3A%28ugcPost%3A7243337000882200576%2C7243587203283513344%29&dashCommentUrn=urn%3Ali%3Afsd_comment%3A%287243548676856455169%2Curn%3Ali%3AugcPost%3A7243337000882200576%29&dashReplyUrn=urn%3Ali%3Afsd_comment%3A%287243587203283513344%2Curn%3Ali%3AugcPost%3A7243337000882200576%29',\n",
       " 'https://www.linkedin.com/feed/update/urn:li:ugcPost:7243337000882200576?commentUrn=urn%3Ali%3Acomment%3A%28ugcPost%3A7243337000882200576%2C7243624531368521729%29&dashCommentUrn=urn%3Ali%3Afsd_comment%3A%287243624531368521729%2Curn%3Ali%3AugcPost%3A7243337000882200576%29',\n",
       " 'https://www.linkedin.com/feed/update/urn:li:ugcPost:7243337000882200576?commentUrn=urn%3Ali%3Acomment%3A%28ugcPost%3A7243337000882200576%2C7243459138775621632%29&replyUrn=urn%3Ali%3Acomment%3A%28ugcPost%3A7243337000882200576%2C7243587663394418689%29&dashCommentUrn=urn%3Ali%3Afsd_comment%3A%287243459138775621632%2Curn%3Ali%3AugcPost%3A7243337000882200576%29&dashReplyUrn=urn%3Ali%3Afsd_comment%3A%287243587663394418689%2Curn%3Ali%3AugcPost%3A7243337000882200576%29',\n",
       " 'https://www.linkedin.com/feed/update/urn:li:ugcPost:7243337000882200576?commentUrn=urn%3Ali%3Acomment%3A%28ugcPost%3A7243337000882200576%2C7243449850556530688%29&dashCommentUrn=urn%3Ali%3Afsd_comment%3A%287243449850556530688%2Curn%3Ali%3AugcPost%3A7243337000882200576%29',\n",
       " 'https://www.linkedin.com/feed/update/urn:li:ugcPost:7243337000882200576?commentUrn=urn%3Ali%3Acomment%3A%28ugcPost%3A7243337000882200576%2C7243449850556530688%29&replyUrn=urn%3Ali%3Acomment%3A%28ugcPost%3A7243337000882200576%2C7243587740754202625%29&dashCommentUrn=urn%3Ali%3Afsd_comment%3A%287243449850556530688%2Curn%3Ali%3AugcPost%3A7243337000882200576%29&dashReplyUrn=urn%3Ali%3Afsd_comment%3A%287243587740754202625%2Curn%3Ali%3AugcPost%3A7243337000882200576%29',\n",
       " 'https://www.linkedin.com/feed/update/urn:li:ugcPost:7243337000882200576?commentUrn=urn%3Ali%3Acomment%3A%28ugcPost%3A7243337000882200576%2C7243348241914757120%29&dashCommentUrn=urn%3Ali%3Afsd_comment%3A%287243348241914757120%2Curn%3Ali%3AugcPost%3A7243337000882200576%29',\n",
       " 'https://www.linkedin.com/feed/update/urn:li:ugcPost:7243318129068548096?commentUrn=urn%3Ali%3Acomment%3A%28ugcPost%3A7243318129068548096%2C7243538604185047040%29&replyUrn=urn%3Ali%3Acomment%3A%28ugcPost%3A7243318129068548096%2C7243588006131978240%29&dashCommentUrn=urn%3Ali%3Afsd_comment%3A%287243538604185047040%2Curn%3Ali%3AugcPost%3A7243318129068548096%29&dashReplyUrn=urn%3Ali%3Afsd_comment%3A%287243588006131978240%2Curn%3Ali%3AugcPost%3A7243318129068548096%29',\n",
       " 'https://www.linkedin.com/feed/update/urn:li:ugcPost:7243318129068548096?commentUrn=urn%3Ali%3Acomment%3A%28ugcPost%3A7243318129068548096%2C7243495182900350976%29&dashCommentUrn=urn%3Ali%3Afsd_comment%3A%287243495182900350976%2Curn%3Ali%3AugcPost%3A7243318129068548096%29',\n",
       " 'https://www.linkedin.com/feed/update/urn:li:ugcPost:7243318129068548096?commentUrn=urn%3Ali%3Acomment%3A%28ugcPost%3A7243318129068548096%2C7243557107642322944%29&replyUrn=urn%3Ali%3Acomment%3A%28ugcPost%3A7243318129068548096%2C7243588425117843456%29&dashCommentUrn=urn%3Ali%3Afsd_comment%3A%287243557107642322944%2Curn%3Ali%3AugcPost%3A7243318129068548096%29&dashReplyUrn=urn%3Ali%3Afsd_comment%3A%287243588425117843456%2Curn%3Ali%3AugcPost%3A7243318129068548096%29',\n",
       " 'https://www.linkedin.com/feed/update/urn:li:ugcPost:7243318129068548096?commentUrn=urn%3Ali%3Acomment%3A%28ugcPost%3A7243318129068548096%2C7243518996841410561%29&replyUrn=urn%3Ali%3Acomment%3A%28ugcPost%3A7243318129068548096%2C7243588319094165504%29&dashCommentUrn=urn%3Ali%3Afsd_comment%3A%287243518996841410561%2Curn%3Ali%3AugcPost%3A7243318129068548096%29&dashReplyUrn=urn%3Ali%3Afsd_comment%3A%287243588319094165504%2Curn%3Ali%3AugcPost%3A7243318129068548096%29',\n",
       " 'https://www.linkedin.com/feed/update/urn:li:ugcPost:7243318129068548096?commentUrn=urn%3Ali%3Acomment%3A%28ugcPost%3A7243318129068548096%2C7243355030446047232%29&replyUrn=urn%3Ali%3Acomment%3A%28ugcPost%3A7243318129068548096%2C7243588107143393281%29&dashCommentUrn=urn%3Ali%3Afsd_comment%3A%287243355030446047232%2Curn%3Ali%3AugcPost%3A7243318129068548096%29&dashReplyUrn=urn%3Ali%3Afsd_comment%3A%287243588107143393281%2Curn%3Ali%3AugcPost%3A7243318129068548096%29',\n",
       " 'https://www.linkedin.com/feed/update/urn:li:ugcPost:7243306803852148736?commentUrn=urn%3Ali%3Acomment%3A%28ugcPost%3A7243306803852148736%2C7243334107408084993%29&dashCommentUrn=urn%3Ali%3Afsd_comment%3A%287243334107408084993%2Curn%3Ali%3AugcPost%3A7243306803852148736%29',\n",
       " 'https://www.linkedin.com/feed/update/urn:li:ugcPost:7243306803852148736?commentUrn=urn%3Ali%3Acomment%3A%28ugcPost%3A7243306803852148736%2C7243334107408084993%29&replyUrn=urn%3Ali%3Acomment%3A%28ugcPost%3A7243306803852148736%2C7243593493074374656%29&dashCommentUrn=urn%3Ali%3Afsd_comment%3A%287243334107408084993%2Curn%3Ali%3AugcPost%3A7243306803852148736%29&dashReplyUrn=urn%3Ali%3Afsd_comment%3A%287243593493074374656%2Curn%3Ali%3AugcPost%3A7243306803852148736%29',\n",
       " 'https://www.linkedin.com/feed/update/urn:li:ugcPost:7243306803852148736?commentUrn=urn%3Ali%3Acomment%3A%28ugcPost%3A7243306803852148736%2C7243450423271997441%29&dashCommentUrn=urn%3Ali%3Afsd_comment%3A%287243450423271997441%2Curn%3Ali%3AugcPost%3A7243306803852148736%29',\n",
       " 'https://www.linkedin.com/feed/update/urn:li:ugcPost:7243306803852148736?commentUrn=urn%3Ali%3Acomment%3A%28ugcPost%3A7243306803852148736%2C7243332067965513729%29&replyUrn=urn%3Ali%3Acomment%3A%28ugcPost%3A7243306803852148736%2C7243593257614491648%29&dashCommentUrn=urn%3Ali%3Afsd_comment%3A%287243332067965513729%2Curn%3Ali%3AugcPost%3A7243306803852148736%29&dashReplyUrn=urn%3Ali%3Afsd_comment%3A%287243593257614491648%2Curn%3Ali%3AugcPost%3A7243306803852148736%29',\n",
       " 'https://www.linkedin.com/feed/update/urn:li:ugcPost:7243306803852148736?commentUrn=urn%3Ali%3Acomment%3A%28ugcPost%3A7243306803852148736%2C7243377469422989312%29&replyUrn=urn%3Ali%3Acomment%3A%28ugcPost%3A7243306803852148736%2C7243593572233433089%29&dashCommentUrn=urn%3Ali%3Afsd_comment%3A%287243377469422989312%2Curn%3Ali%3AugcPost%3A7243306803852148736%29&dashReplyUrn=urn%3Ali%3Afsd_comment%3A%287243593572233433089%2Curn%3Ali%3AugcPost%3A7243306803852148736%29',\n",
       " 'https://www.linkedin.com/feed/update/urn:li:ugcPost:7243306803852148736?commentUrn=urn%3Ali%3Acomment%3A%28ugcPost%3A7243306803852148736%2C7243449242319568896%29&replyUrn=urn%3Ali%3Acomment%3A%28ugcPost%3A7243306803852148736%2C7243593661647597568%29&dashCommentUrn=urn%3Ali%3Afsd_comment%3A%287243449242319568896%2Curn%3Ali%3AugcPost%3A7243306803852148736%29&dashReplyUrn=urn%3Ali%3Afsd_comment%3A%287243593661647597568%2Curn%3Ali%3AugcPost%3A7243306803852148736%29']"
      ]
     },
     "execution_count": 7,
     "metadata": {},
     "output_type": "execute_result"
    }
   ],
   "source": [
    "bad_comments_links"
   ]
  },
  {
   "cell_type": "code",
   "execution_count": 185,
   "metadata": {},
   "outputs": [],
   "source": [
    "comments_info\n",
    "\n",
    "import json\n",
    "\n",
    "# save comments_info to a JSON file\n",
    "with open('comments_info.json', 'w') as f:\n",
    "    json.dump(comments_info, f, indent=4, ensure_ascii=False)\n"
   ]
  },
  {
   "cell_type": "code",
   "execution_count": 123,
   "metadata": {},
   "outputs": [
    {
     "data": {
      "text/plain": [
       "23"
      ]
     },
     "execution_count": 123,
     "metadata": {},
     "output_type": "execute_result"
    }
   ],
   "source": [
    "count_comments_and_replies(comments_info)"
   ]
  },
  {
   "cell_type": "code",
   "execution_count": 101,
   "metadata": {},
   "outputs": [
    {
     "data": {
      "text/plain": [
       "11"
      ]
     },
     "execution_count": 101,
     "metadata": {},
     "output_type": "execute_result"
    }
   ],
   "source": [
    "def find_object_index_with_substring(array_of_objects, substring):\n",
    "    # Iterate over the array and check if the substring is in the 'text' attribute of each object\n",
    "    for index, obj in enumerate(array_of_objects):\n",
    "        if substring in obj['text']:\n",
    "            return index\n",
    "    # If no object is found, return None\n",
    "    return None\n",
    "\n",
    "\n",
    "find_object_index_with_substring(comments_info, \"Oh No!!\")"
   ]
  },
  {
   "cell_type": "code",
   "execution_count": 127,
   "metadata": {},
   "outputs": [
    {
     "data": {
      "text/plain": [
       "dict_keys(['commenterProfileId', 'dashEntityUrn', 'pinned', 'edited', 'index', 'commenterForDashConversion', 'timeOffset', 'originalLanguage', 'content', 'rootSocialPermissions', 'commenter', 'socialDetail', 'urn', 'threadId', 'entityUrn', 'commentV2', 'createdTime', 'canDelete', 'comment', 'permalink', 'actions', 'contributed', 'trackingId'])"
      ]
     },
     "execution_count": 127,
     "metadata": {},
     "output_type": "execute_result"
    }
   ],
   "source": [
    "obj.keys()"
   ]
  },
  {
   "cell_type": "code",
   "execution_count": null,
   "metadata": {},
   "outputs": [],
   "source": [
    "https://www.linkedin.com/in/purger-elo-518265328/"
   ]
  },
  {
   "cell_type": "code",
   "execution_count": 165,
   "metadata": {},
   "outputs": [],
   "source": [
    "name_obj = obj['commenter']"
   ]
  },
  {
   "cell_type": "code",
   "execution_count": 166,
   "metadata": {},
   "outputs": [
    {
     "data": {
      "text/plain": [
       "{'com.linkedin.voyager.feed.MemberActor': {'urn': 'urn:li:member:9159810',\n",
       "  'miniProfile': {'firstName': 'Gussan',\n",
       "   'lastName': 'H - Opinions Are My Own',\n",
       "   'dashEntityUrn': 'urn:li:fsd_profile:ACoAAACLxIIBQ2XUU8OXuTv2odBQKtxmf5_vbCY',\n",
       "   'occupation': 'Digital Transformation Technology Leader',\n",
       "   'objectUrn': 'urn:li:member:9159810',\n",
       "   'entityUrn': 'urn:li:fs_miniProfile:ACoAAACLxIIBQ2XUU8OXuTv2odBQKtxmf5_vbCY',\n",
       "   '$anti_abuse_metadata': {'$anti_abuse_uuid': '44b4ed12-94b7-41f9-b380-2693eb4f8cf9'},\n",
       "   'backgroundImage': {'com.linkedin.common.VectorImage': {'artifacts': [{'width': 800,\n",
       "       'fileIdentifyingUrlPathSegment': '200_800/profile-displaybackgroundimage-shrink_200_800/0/1719347651902?e=1732752000&v=beta&t=PkVSF3mwYzT9-UHrLU9nR_6yDGqeeLHbARjDXkg9LZ4',\n",
       "       'expiresAt': 1732752000000,\n",
       "       'height': 200},\n",
       "      {'width': 1400,\n",
       "       'fileIdentifyingUrlPathSegment': '350_1400/profile-displaybackgroundimage-shrink_350_1400/0/1719349913841?e=1732752000&v=beta&t=6ef7d5GrUW5y8_SeL8yWF4ST8_EQqs5LLC9ppf9Jc4k',\n",
       "       'expiresAt': 1732752000000,\n",
       "       'height': 350}],\n",
       "     'rootUrl': 'https://media.licdn.com/dms/image/v2/D4E16AQHSSJ5Z0NElRw/profile-displaybackgroundimage-shrink_'}},\n",
       "   'publicIdentifier': 'dt-it-leader',\n",
       "   'trackingId': 'xkYwjCUMSF2PSH0C5ck+Qw=='},\n",
       "  'showFollowAction': False,\n",
       "  'followingInfo': {'entityUrn': 'urn:li:fs_followingInfo:urn:li:member:ACoAAACLxIIBQ2XUU8OXuTv2odBQKtxmf5_vbCY',\n",
       "   'dashFollowingStateUrn': 'urn:li:fsd_followingState:urn:li:fsd_profile:ACoAAACLxIIBQ2XUU8OXuTv2odBQKtxmf5_vbCY',\n",
       "   'following': False,\n",
       "   'trackingUrn': 'urn:li:member:9159810',\n",
       "   'followingType': 'DEFAULT'},\n",
       "  'distance': {'value': 'OUT_OF_NETWORK'},\n",
       "  'skillNames': []}}"
      ]
     },
     "execution_count": 166,
     "metadata": {},
     "output_type": "execute_result"
    }
   ],
   "source": [
    "c obj['commenter']"
   ]
  },
  {
   "cell_type": "code",
   "execution_count": 140,
   "metadata": {},
   "outputs": [
    {
     "data": {
      "text/plain": [
       "'dt-it-leader'"
      ]
     },
     "execution_count": 140,
     "metadata": {},
     "output_type": "execute_result"
    }
   ],
   "source": [
    "name_obj = obj['commenter']['com.linkedin.voyager.feed.MemberActor']['miniProfile']['publicIdentifier']\n"
   ]
  },
  {
   "cell_type": "code",
   "execution_count": 139,
   "metadata": {},
   "outputs": [],
   "source": [
    "obj = comments_objs[1]\n",
    "\n",
    "# save json\n",
    "with open('comments_objs.json', 'w') as f:\n",
    "    json.dump(obj, f, indent=4, ensure_ascii=False)"
   ]
  },
  {
   "cell_type": "code",
   "execution_count": 172,
   "metadata": {},
   "outputs": [],
   "source": [
    "c = comments_objs[0]['socialDetail']['comments']['elements'][0]['commenter']\n",
    "# save c as json:\n",
    "with open('c.json', 'w') as f:\n",
    "    json.dump(c[next(iter(c))], f, indent=4, ensure_ascii=False)"
   ]
  },
  {
   "cell_type": "code",
   "execution_count": 85,
   "metadata": {},
   "outputs": [
    {
     "data": {
      "text/plain": [
       "[{'link': 'https://www.linkedin.com/feed/update/urn:li:ugcPost:7243295715513303041?commentUrn=urn%3Ali%3Acomment%3A%28ugcPost%3A7243295715513303041%2C7243378888683257856%29&dashCommentUrn=urn%3Ali%3Afsd_comment%3A%287243378888683257856%2Curn%3Ali%3AugcPost%3A7243295715513303041%29',\n",
       "  'text': 'Imagine this was happening to people in the US. For a YEAR straight.\\n\\nPalestinians have been facing doomsday level horrors every day for the past year. It can all stop immediately if the US enforces an arms embargo on Israel.',\n",
       "  'replies': [{'link': 'https://www.linkedin.com/feed/update/urn:li:ugcPost:7243295715513303041?commentUrn=urn%3Ali%3Acomment%3A%28ugcPost%3A7243295715513303041%2C7243378888683257856%29&replyUrn=urn%3Ali%3Acomment%3A%28ugcPost%3A7243295715513303041%2C7243594235067719680%29&dashCommentUrn=urn%3Ali%3Afsd_comment%3A%287243378888683257856%2Curn%3Ali%3AugcPost%3A7243295715513303041%29&dashReplyUrn=urn%3Ali%3Afsd_comment%3A%287243594235067719680%2Curn%3Ali%3AugcPost%3A7243295715513303041%29',\n",
       "    'text': 'Obada Ghabra 🍉 It’s unimaginable to think of such devastation happening anywhere, yet Palestinians have been enduring this for far too long.'},\n",
       "   {'link': 'https://www.linkedin.com/feed/update/urn:li:ugcPost:7243295715513303041?commentUrn=urn%3Ali%3Acomment%3A%28ugcPost%3A7243295715513303041%2C7243378888683257856%29&replyUrn=urn%3Ali%3Acomment%3A%28ugcPost%3A7243295715513303041%2C7243597549352169472%29&dashCommentUrn=urn%3Ali%3Afsd_comment%3A%287243378888683257856%2Curn%3Ali%3AugcPost%3A7243295715513303041%29&dashReplyUrn=urn%3Ali%3Afsd_comment%3A%287243597549352169472%2Curn%3Ali%3AugcPost%3A7243295715513303041%29',\n",
       "    'text': 'OK'}]},\n",
       " {'link': 'https://www.linkedin.com/feed/update/urn:li:ugcPost:7243295715513303041?commentUrn=urn%3Ali%3Acomment%3A%28ugcPost%3A7243295715513303041%2C7243411094222848000%29&dashCommentUrn=urn%3Ali%3Afsd_comment%3A%287243411094222848000%2Curn%3Ali%3AugcPost%3A7243295715513303041%29',\n",
       "  'text': \"Inna lillahi wa inna ilayhi raji'un إِنَّا لِلَّٰهِ وَإِنَّا إِلَيْهِ رَاجِعُونَ. To Allah we belong and to Him we return. It is with great sadness, may Allah swt grant their families Sabre jameel\\n\\nWe pray Allah (swt) grants them all the highest ranks of Jannah, may He illuminate their graves and grant beautiful patience ‘Sabr Jameel’ to their loved ones. Ameen!\\n\\n\\nWe pray Allah reunites us with our loved ones in His Eternal Gardens of Paradise. By the will of Allah, we shall all meet again. Ameen\",\n",
       "  'replies': [{'link': 'https://www.linkedin.com/feed/update/urn:li:ugcPost:7243295715513303041?commentUrn=urn%3Ali%3Acomment%3A%28ugcPost%3A7243295715513303041%2C7243411094222848000%29&replyUrn=urn%3Ali%3Acomment%3A%28ugcPost%3A7243295715513303041%2C7243594531147833344%29&dashCommentUrn=urn%3Ali%3Afsd_comment%3A%287243411094222848000%2Curn%3Ali%3AugcPost%3A7243295715513303041%29&dashReplyUrn=urn%3Ali%3Afsd_comment%3A%287243594531147833344%2Curn%3Ali%3AugcPost%3A7243295715513303041%29',\n",
       "    'text': 'Anisha Moosaأنيشا موسى🇿🇦🇵🇸🍉 Allahumma Ameen 🤲'}]},\n",
       " {'link': 'https://www.linkedin.com/feed/update/urn:li:ugcPost:7243295715513303041?commentUrn=urn%3Ali%3Acomment%3A%28ugcPost%3A7243295715513303041%2C7243537554916970496%29&dashCommentUrn=urn%3Ali%3Afsd_comment%3A%287243537554916970496%2Curn%3Ali%3AugcPost%3A7243295715513303041%29',\n",
       "  'text': 'Way Beyond horrible terrible and terrorist attacks for almost a year it is a declared genocide with supremacy.\\n\\nShame on politics',\n",
       "  'replies': [{'link': 'https://www.linkedin.com/feed/update/urn:li:ugcPost:7243295715513303041?commentUrn=urn%3Ali%3Acomment%3A%28ugcPost%3A7243295715513303041%2C7243537554916970496%29&replyUrn=urn%3Ali%3Acomment%3A%28ugcPost%3A7243295715513303041%2C7243594643307679744%29&dashCommentUrn=urn%3Ali%3Afsd_comment%3A%287243537554916970496%2Curn%3Ali%3AugcPost%3A7243295715513303041%29&dashReplyUrn=urn%3Ali%3Afsd_comment%3A%287243594643307679744%2Curn%3Ali%3AugcPost%3A7243295715513303041%29',\n",
       "    'text': \"Rached Chamakh You're absolutely right. What's happening goes beyond words.\"}]},\n",
       " {'link': 'https://www.linkedin.com/feed/update/urn:li:ugcPost:7243295715513303041?commentUrn=urn%3Ali%3Acomment%3A%28ugcPost%3A7243295715513303041%2C7243387655030231040%29&dashCommentUrn=urn%3Ali%3Afsd_comment%3A%287243387655030231040%2Curn%3Ali%3AugcPost%3A7243295715513303041%29',\n",
       "  'text': 'US Federal Government',\n",
       "  'replies': []},\n",
       " {'link': 'https://www.linkedin.com/feed/update/urn:li:ugcPost:7243295715513303041?commentUrn=urn%3Ali%3Acomment%3A%28ugcPost%3A7243295715513303041%2C7243383883566592000%29&dashCommentUrn=urn%3Ali%3Afsd_comment%3A%287243383883566592000%2Curn%3Ali%3AugcPost%3A7243295715513303041%29',\n",
       "  'text': \"I'm reaching out with a heavy heart to inform you that my family and I are currently facing imminent death and bombardment in Gaza.\\nThe situation is dire, and we urgently need assistance to escape this genocide😔.\\n\\nYour generosity during this difficult time would mean the world to us. Thank you for your compassion and support.\\n\\nTo support , please consider donating through this link:\\nhttps://www.gofundme.com/f/help-mohammads-family-escape-gazas-devastation\\nWarm regards,\\nMohammed khaled\",\n",
       "  'replies': []},\n",
       " {'link': 'https://www.linkedin.com/feed/update/urn:li:ugcPost:7243295715513303041?commentUrn=urn%3Ali%3Acomment%3A%28ugcPost%3A7243295715513303041%2C7243312386617610240%29&dashCommentUrn=urn%3Ali%3Afsd_comment%3A%287243312386617610240%2Curn%3Ali%3AugcPost%3A7243295715513303041%29',\n",
       "  'text': 'Those who are still silent: \\nWhat else do you need to see that will break your silence? \\nIf your worried about losing jobs, income, high positions; RIZQ is from Allah and is already written! \\nPut your trust in Allah and speak out against oppression and injustice!',\n",
       "  'replies': [{'link': 'https://www.linkedin.com/feed/update/urn:li:ugcPost:7243295715513303041?commentUrn=urn%3Ali%3Acomment%3A%28ugcPost%3A7243295715513303041%2C7243312386617610240%29&replyUrn=urn%3Ali%3Acomment%3A%28ugcPost%3A7243295715513303041%2C7243319347484512257%29&dashCommentUrn=urn%3Ali%3Afsd_comment%3A%287243312386617610240%2Curn%3Ali%3AugcPost%3A7243295715513303041%29&dashReplyUrn=urn%3Ali%3Afsd_comment%3A%287243319347484512257%2Curn%3Ali%3AugcPost%3A7243295715513303041%29',\n",
       "    'text': \"Saiqa . You are so right. Silence in the face of injustice is complicity. We must have faith and speak out against oppression, knowing that true justice comes from standing for what's right.\"}]},\n",
       " {'link': 'https://www.linkedin.com/feed/update/urn:li:ugcPost:7243295715513303041?commentUrn=urn%3Ali%3Acomment%3A%28ugcPost%3A7243295715513303041%2C7243304722122653696%29&dashCommentUrn=urn%3Ali%3Afsd_comment%3A%287243304722122653696%2Curn%3Ali%3AugcPost%3A7243295715513303041%29',\n",
       "  'text': \"This is beyond painful!!! O God!! It's beyond reality too..!😭😭😭💔💔These evil are so dark and monstrous and NO ONE literally NO ONE wana take action against these #evilcriminalisrael!!\",\n",
       "  'replies': [{'link': 'https://www.linkedin.com/feed/update/urn:li:ugcPost:7243295715513303041?commentUrn=urn%3Ali%3Acomment%3A%28ugcPost%3A7243295715513303041%2C7243304722122653696%29&replyUrn=urn%3Ali%3Acomment%3A%28ugcPost%3A7243295715513303041%2C7243319233424592896%29&dashCommentUrn=urn%3Ali%3Afsd_comment%3A%287243304722122653696%2Curn%3Ali%3AugcPost%3A7243295715513303041%29&dashReplyUrn=urn%3Ali%3Afsd_comment%3A%287243319233424592896%2Curn%3Ali%3AugcPost%3A7243295715513303041%29',\n",
       "    'text': 'Bushra Shahid It truly is unbearable to witness such cruelty. The inaction of the world is disheartening, but we must keep raising our voices for justice.'}]},\n",
       " {'link': 'https://www.linkedin.com/feed/update/urn:li:ugcPost:7243295715513303041?commentUrn=urn%3Ali%3Acomment%3A%28ugcPost%3A7243295715513303041%2C7243389716237078529%29&dashCommentUrn=urn%3Ali%3Afsd_comment%3A%287243389716237078529%2Curn%3Ali%3AugcPost%3A7243295715513303041%29',\n",
       "  'text': 'European Parliament',\n",
       "  'replies': []},\n",
       " {'link': 'https://www.linkedin.com/feed/update/urn:li:ugcPost:7243295715513303041?commentUrn=urn%3Ali%3Acomment%3A%28ugcPost%3A7243295715513303041%2C7243305025844723713%29&dashCommentUrn=urn%3Ali%3Afsd_comment%3A%287243305025844723713%2Curn%3Ali%3AugcPost%3A7243295715513303041%29',\n",
       "  'text': 'Stop the terrorist Israeli regime\\n',\n",
       "  'replies': []},\n",
       " {'link': 'https://www.linkedin.com/feed/update/urn:li:ugcPost:7243295715513303041?commentUrn=urn%3Ali%3Acomment%3A%28ugcPost%3A7243295715513303041%2C7243391572942196736%29&dashCommentUrn=urn%3Ali%3Afsd_comment%3A%287243391572942196736%2Curn%3Ali%3AugcPost%3A7243295715513303041%29',\n",
       "  'text': 'Government of Canada',\n",
       "  'replies': []},\n",
       " {'link': 'https://www.linkedin.com/feed/update/urn:li:ugcPost:7243295715513303041?commentUrn=urn%3Ali%3Acomment%3A%28ugcPost%3A7243295715513303041%2C7243392167593885696%29&dashCommentUrn=urn%3Ali%3Afsd_comment%3A%287243392167593885696%2Curn%3Ali%3AugcPost%3A7243295715513303041%29',\n",
       "  'text': 'Japan - The Government of Japan',\n",
       "  'replies': []},\n",
       " {'link': 'https://www.linkedin.com/feed/update/urn:li:ugcPost:7243295715513303041?commentUrn=urn%3Ali%3Acomment%3A%28ugcPost%3A7243295715513303041%2C7243381195458134016%29&dashCommentUrn=urn%3Ali%3Afsd_comment%3A%287243381195458134016%2Curn%3Ali%3AugcPost%3A7243295715513303041%29',\n",
       "  'text': 'I am not sure what to say...I have lost words...there is no humanity left..\\n\\nHasbunaAllahu wa naimal wakeel',\n",
       "  'replies': [{'link': 'https://www.linkedin.com/feed/update/urn:li:ugcPost:7243295715513303041?commentUrn=urn%3Ali%3Acomment%3A%28ugcPost%3A7243295715513303041%2C7243381195458134016%29&replyUrn=urn%3Ali%3Acomment%3A%28ugcPost%3A7243295715513303041%2C7243594282035560448%29&dashCommentUrn=urn%3Ali%3Afsd_comment%3A%287243381195458134016%2Curn%3Ali%3AugcPost%3A7243295715513303041%29&dashReplyUrn=urn%3Ali%3Afsd_comment%3A%287243594282035560448%2Curn%3Ali%3AugcPost%3A7243295715513303041%29',\n",
       "    'text': 'Zoha Ali ♥️🇵🇸 Thank you for sharing your thoughts.'}]},\n",
       " {'link': 'https://www.linkedin.com/feed/update/urn:li:ugcPost:7243295715513303041?commentUrn=urn%3Ali%3Acomment%3A%28ugcPost%3A7243295715513303041%2C7243298707922681860%29&dashCommentUrn=urn%3Ali%3Afsd_comment%3A%287243298707922681860%2Curn%3Ali%3AugcPost%3A7243295715513303041%29',\n",
       "  'text': 'Oh No!! 😓😰 We as a society need real big change.',\n",
       "  'replies': [{'link': 'https://www.linkedin.com/feed/update/urn:li:ugcPost:7243295715513303041?commentUrn=urn%3Ali%3Acomment%3A%28ugcPost%3A7243295715513303041%2C7243298707922681860%29&replyUrn=urn%3Ali%3Acomment%3A%28ugcPost%3A7243295715513303041%2C7243306161150566400%29&dashCommentUrn=urn%3Ali%3Afsd_comment%3A%287243298707922681860%2Curn%3Ali%3AugcPost%3A7243295715513303041%29&dashReplyUrn=urn%3Ali%3Afsd_comment%3A%287243306161150566400%2Curn%3Ali%3AugcPost%3A7243295715513303041%29',\n",
       "    'text': \"azi dagan did I target any comment at you? Where you coming from and saying without any face to hide from accountability. You don't have the guts to even show your face. This exactly shows how zionists behave. Coming out of nowhere and throwing shit at innocent people who only want peace.\"},\n",
       "   {'link': 'https://www.linkedin.com/feed/update/urn:li:ugcPost:7243295715513303041?commentUrn=urn%3Ali%3Acomment%3A%28ugcPost%3A7243295715513303041%2C7243298707922681860%29&replyUrn=urn%3Ali%3Acomment%3A%28ugcPost%3A7243295715513303041%2C7243314082919944193%29&dashCommentUrn=urn%3Ali%3Afsd_comment%3A%287243298707922681860%2Curn%3Ali%3AugcPost%3A7243295715513303041%29&dashReplyUrn=urn%3Ali%3Afsd_comment%3A%287243314082919944193%2Curn%3Ali%3AugcPost%3A7243295715513303041%29',\n",
       "    'text': 'azi dagan go away terr**rist'}]},\n",
       " {'link': 'https://www.linkedin.com/feed/update/urn:li:ugcPost:7243295715513303041?commentUrn=urn%3Ali%3Acomment%3A%28ugcPost%3A7243295715513303041%2C7243576398521487361%29&dashCommentUrn=urn%3Ali%3Afsd_comment%3A%287243576398521487361%2Curn%3Ali%3AugcPost%3A7243295715513303041%29',\n",
       "  'text': '💔',\n",
       "  'replies': []},\n",
       " {'link': 'https://www.linkedin.com/feed/update/urn:li:ugcPost:7243295715513303041?commentUrn=urn%3Ali%3Acomment%3A%28ugcPost%3A7243295715513303041%2C7243545606592352256%29&dashCommentUrn=urn%3Ali%3Afsd_comment%3A%287243545606592352256%2Curn%3Ali%3AugcPost%3A7243295715513303041%29',\n",
       "  'text': 'Barbaric and inhumane 😢💔',\n",
       "  'replies': []},\n",
       " {'link': 'https://www.linkedin.com/feed/update/urn:li:ugcPost:7243295715513303041?commentUrn=urn%3Ali%3Acomment%3A%28ugcPost%3A7243295715513303041%2C7243331170715807744%29&dashCommentUrn=urn%3Ali%3Afsd_comment%3A%287243331170715807744%2Curn%3Ali%3AugcPost%3A7243295715513303041%29',\n",
       "  'text': 'Monstrous. Real live horror. Still we are watching. Mind wrenching.',\n",
       "  'replies': [{'link': 'https://www.linkedin.com/feed/update/urn:li:ugcPost:7243295715513303041?commentUrn=urn%3Ali%3Acomment%3A%28ugcPost%3A7243295715513303041%2C7243331170715807744%29&replyUrn=urn%3Ali%3Acomment%3A%28ugcPost%3A7243295715513303041%2C7243594134043668480%29&dashCommentUrn=urn%3Ali%3Afsd_comment%3A%287243331170715807744%2Curn%3Ali%3AugcPost%3A7243295715513303041%29&dashReplyUrn=urn%3Ali%3Afsd_comment%3A%287243594134043668480%2Curn%3Ali%3AugcPost%3A7243295715513303041%29',\n",
       "    'text': 'Victoria Schaumburger It truly is beyond words—unbearable to witness such horror unfolding in real time.'}]},\n",
       " {'link': 'https://www.linkedin.com/feed/update/urn:li:ugcPost:7243295715513303041?commentUrn=urn%3Ali%3Acomment%3A%28ugcPost%3A7243295715513303041%2C7243386105889247232%29&dashCommentUrn=urn%3Ali%3Afsd_comment%3A%287243386105889247232%2Curn%3Ali%3AugcPost%3A7243295715513303041%29',\n",
       "  'text': 'Heart wrecking images, May Allah do the same for the ones responsible for this.',\n",
       "  'replies': [{'link': 'https://www.linkedin.com/feed/update/urn:li:ugcPost:7243295715513303041?commentUrn=urn%3Ali%3Acomment%3A%28ugcPost%3A7243295715513303041%2C7243386105889247232%29&replyUrn=urn%3Ali%3Acomment%3A%28ugcPost%3A7243295715513303041%2C7243594441385533440%29&dashCommentUrn=urn%3Ali%3Afsd_comment%3A%287243386105889247232%2Curn%3Ali%3AugcPost%3A7243295715513303041%29&dashReplyUrn=urn%3Ali%3Afsd_comment%3A%287243594441385533440%2Curn%3Ali%3AugcPost%3A7243295715513303041%29',\n",
       "    'text': 'Shoaib Ahmed Khan Ameen 🤲'}]},\n",
       " {'link': 'https://www.linkedin.com/feed/update/urn:li:ugcPost:7243295715513303041?commentUrn=urn%3Ali%3Acomment%3A%28ugcPost%3A7243295715513303041%2C7243314493370302464%29&dashCommentUrn=urn%3Ali%3Afsd_comment%3A%287243314493370302464%2Curn%3Ali%3AugcPost%3A7243295715513303041%29',\n",
       "  'text': 'One year later and still commenting for visibility.',\n",
       "  'replies': []},\n",
       " {'link': 'https://www.linkedin.com/feed/update/urn:li:ugcPost:7243295715513303041?commentUrn=urn%3Ali%3Acomment%3A%28ugcPost%3A7243295715513303041%2C7243328146622623744%29&dashCommentUrn=urn%3Ali%3Afsd_comment%3A%287243328146622623744%2Curn%3Ali%3AugcPost%3A7243295715513303041%29',\n",
       "  'text': 'Beyond genocide.\\nHumanity is dead.',\n",
       "  'replies': []},\n",
       " {'link': 'https://www.linkedin.com/feed/update/urn:li:ugcPost:7243295715513303041?commentUrn=urn%3Ali%3Acomment%3A%28ugcPost%3A7243295715513303041%2C7243479762180943872%29&dashCommentUrn=urn%3Ali%3Afsd_comment%3A%287243479762180943872%2Curn%3Ali%3AugcPost%3A7243295715513303041%29',\n",
       "  'text': 'Inna lillahe wa Inna illaehe rajioon',\n",
       "  'replies': []},\n",
       " {'link': 'https://www.linkedin.com/feed/update/urn:li:ugcPost:7243295715513303041?commentUrn=urn%3Ali%3Acomment%3A%28ugcPost%3A7243295715513303041%2C7243373952109027328%29&dashCommentUrn=urn%3Ali%3Afsd_comment%3A%287243373952109027328%2Curn%3Ali%3AugcPost%3A7243295715513303041%29',\n",
       "  'text': 'I have no words ❤️\\u200d🔥',\n",
       "  'replies': []},\n",
       " {'link': 'https://www.linkedin.com/feed/update/urn:li:ugcPost:7243295715513303041?commentUrn=urn%3Ali%3Acomment%3A%28ugcPost%3A7243295715513303041%2C7243341015586136064%29&dashCommentUrn=urn%3Ali%3Afsd_comment%3A%287243341015586136064%2Curn%3Ali%3AugcPost%3A7243295715513303041%29',\n",
       "  'text': 'This is terrorism by U.S and Western World.',\n",
       "  'replies': []},\n",
       " {'link': 'https://www.linkedin.com/feed/update/urn:li:ugcPost:7243295715513303041?commentUrn=urn%3Ali%3Acomment%3A%28ugcPost%3A7243295715513303041%2C7243321698043760642%29&dashCommentUrn=urn%3Ali%3Afsd_comment%3A%287243321698043760642%2Curn%3Ali%3AugcPost%3A7243295715513303041%29',\n",
       "  'text': 'zionism crimes',\n",
       "  'replies': []},\n",
       " {'link': 'https://www.linkedin.com/feed/update/urn:li:ugcPost:7243295715513303041?commentUrn=urn%3Ali%3Acomment%3A%28ugcPost%3A7243295715513303041%2C7243298201770811392%29&dashCommentUrn=urn%3Ali%3Afsd_comment%3A%287243298201770811392%2Curn%3Ali%3AugcPost%3A7243295715513303041%29',\n",
       "  'text': 'International Court of Justice (ICJ)',\n",
       "  'replies': []},\n",
       " {'link': 'https://www.linkedin.com/feed/update/urn:li:ugcPost:7243295715513303041?commentUrn=urn%3Ali%3Acomment%3A%28ugcPost%3A7243295715513303041%2C7243327412581601280%29&dashCommentUrn=urn%3Ali%3Afsd_comment%3A%287243327412581601280%2Curn%3Ali%3AugcPost%3A7243295715513303041%29',\n",
       "  'text': '😭',\n",
       "  'replies': []},\n",
       " {'link': 'https://www.linkedin.com/feed/update/urn:li:ugcPost:7243295715513303041?commentUrn=urn%3Ali%3Acomment%3A%28ugcPost%3A7243295715513303041%2C7243349987995131904%29&dashCommentUrn=urn%3Ali%3Afsd_comment%3A%287243349987995131904%2Curn%3Ali%3AugcPost%3A7243295715513303041%29',\n",
       "  'text': 'حسبنا الله ونعم الوكيل، لا غالب الا الله ، يمهل ولا يهمل',\n",
       "  'replies': []},\n",
       " {'link': 'https://www.linkedin.com/feed/update/urn:li:ugcPost:7243295715513303041?commentUrn=urn%3Ali%3Acomment%3A%28ugcPost%3A7243295715513303041%2C7243309290701127682%29&dashCommentUrn=urn%3Ali%3Afsd_comment%3A%287243309290701127682%2Curn%3Ali%3AugcPost%3A7243295715513303041%29',\n",
       "  'text': 'حسبي الله و نعم الوكيل!',\n",
       "  'replies': []},\n",
       " {'link': 'https://www.linkedin.com/feed/update/urn:li:ugcPost:7243295715513303041?commentUrn=urn%3Ali%3Acomment%3A%28ugcPost%3A7243295715513303041%2C7243323032100909057%29&dashCommentUrn=urn%3Ali%3Afsd_comment%3A%287243323032100909057%2Curn%3Ali%3AugcPost%3A7243295715513303041%29',\n",
       "  'text': 'United Nations',\n",
       "  'replies': []},\n",
       " {'link': 'https://www.linkedin.com/feed/update/urn:li:ugcPost:7243295715513303041?commentUrn=urn%3Ali%3Acomment%3A%28ugcPost%3A7243295715513303041%2C7243297974464700416%29&dashCommentUrn=urn%3Ali%3Afsd_comment%3A%287243297974464700416%2Curn%3Ali%3AugcPost%3A7243295715513303041%29',\n",
       "  'text': 'United Nations',\n",
       "  'replies': []},\n",
       " {'link': 'https://www.linkedin.com/feed/update/urn:li:ugcPost:7243295715513303041?commentUrn=urn%3Ali%3Acomment%3A%28ugcPost%3A7243295715513303041%2C7243302893821317120%29&dashCommentUrn=urn%3Ali%3Afsd_comment%3A%287243302893821317120%2Curn%3Ali%3AugcPost%3A7243295715513303041%29',\n",
       "  'text': 'United Nations',\n",
       "  'replies': []}]"
      ]
     },
     "execution_count": 85,
     "metadata": {},
     "output_type": "execute_result"
    }
   ],
   "source": [
    "comments_info\n",
    "\n",
    "# get the index of the object having Oh No!! in text\n",
    "comments_info[0]['text'].find(\"Oh No!!\")"
   ]
  },
  {
   "cell_type": "code",
   "execution_count": 29,
   "metadata": {},
   "outputs": [
    {
     "data": {
      "text/plain": [
       "0"
      ]
     },
     "execution_count": 29,
     "metadata": {},
     "output_type": "execute_result"
    }
   ],
   "source": [
    "len(comment_links)"
   ]
  },
  {
   "cell_type": "code",
   "execution_count": 93,
   "metadata": {},
   "outputs": [
    {
     "data": {
      "text/plain": [
       "'And still they use mass destruction of babies \\n\\nWhy is there no CEASEFIRE .? Children are \\n\\nContinuing to be immunised for Polio 👐🏾🤲🏼\\n\\nPalestine 🇵🇸🩸is bleeding 🩸 stop bombs 💣 \\n\\nI stand with Palestine 🇵🇸 freedom peace ☮️\\n\\nWake up world 🌎 ASAP NOW SOS 🆘'"
      ]
     },
     "execution_count": 93,
     "metadata": {},
     "output_type": "execute_result"
    }
   ],
   "source": [
    "c=0 # comment number\n",
    "comments[c]['comment']['values'][0]['value']"
   ]
  },
  {
   "cell_type": "code",
   "execution_count": 90,
   "metadata": {},
   "outputs": [
    {
     "data": {
      "text/plain": [
       "'Anne Reeve We were never able to understand this. Thank you so much for your voice.\\n'"
      ]
     },
     "execution_count": 90,
     "metadata": {},
     "output_type": "execute_result"
    }
   ],
   "source": [
    "i=0 # reply number\n",
    "comments[0]['socialDetail']['comments']['elements'][i][\"commentV2\"]['text']"
   ]
  },
  {
   "cell_type": "code",
   "execution_count": 89,
   "metadata": {},
   "outputs": [
    {
     "data": {
      "text/plain": [
       "' Thank you, SWP.'"
      ]
     },
     "execution_count": 89,
     "metadata": {},
     "output_type": "execute_result"
    }
   ],
   "source": [
    "i=1\n",
    "comments[0]['socialDetail']['comments']['elements'][i]['comment']['values'][1]['value']"
   ]
  },
  {
   "cell_type": "code",
   "execution_count": 20,
   "metadata": {},
   "outputs": [
    {
     "name": "stdout",
     "output_type": "stream",
     "text": [
      "{'commenterProfileId': 'ACoAAAgEc6ABRkky1hofUfSkj2OJATmTBUrlwdo', 'dashEntityUrn': 'urn:li:fsd_comment:(7240329572053876736,urn:li:ugcPost:7240079285212827648)', 'pinned': False, 'edited': False, 'index': -1, 'commenterForDashConversion': {'urn': 'urn:li:member:134509472', 'image': {'attributes': [{'sourceType': 'PROFILE_PICTURE', 'miniProfile': {'firstName': 'Or', 'lastName': 'Lapid', 'dashEntityUrn': 'urn:li:fsd_profile:ACoAAAgEc6ABRkky1hofUfSkj2OJATmTBUrlwdo', 'occupation': 'Snr. Field Apps Engineer at Micron Technology', 'objectUrn': 'urn:li:member:134509472', 'entityUrn': 'urn:li:fs_miniProfile:ACoAAAgEc6ABRkky1hofUfSkj2OJATmTBUrlwdo', '$anti_abuse_metadata': {'$anti_abuse_uuid': '4aca8edc-eba3-446d-aea8-02d33acf71d3'}, 'backgroundImage': {'com.linkedin.common.VectorImage': {'artifacts': [{'width': 800, 'fileIdentifyingUrlPathSegment': '200_800/profile-displaybackgroundimage-shrink_200_800/0/1698991294976?e=1731542400&v=beta&t=Q0EljcZZvFBK7J86IQ1hdLqP5ArtsfI6xcXsVcmtS3E', 'expiresAt': 1731542400000, 'height': 200}, {'width': 1284, 'fileIdentifyingUrlPathSegment': '350_1400/profile-displaybackgroundimage-shrink_350_1400/0/1698991294976?e=1731542400&v=beta&t=GMfnclVpiuWsKBjcFwUSdfYDpqOwWAFR1tNc83tfo_Y', 'expiresAt': 1731542400000, 'height': 321}], 'rootUrl': 'https://media.licdn.com/dms/image/v2/D4D16AQGJcilAO0vsyQ/profile-displaybackgroundimage-shrink_'}}, 'publicIdentifier': 'or-lapid-16806939', 'trackingId': '/GEj4Z0dRJmvoMFq1NzNcw=='}}], 'accessibilityTextAttributes': [], 'accessibilityText': 'View Or Lapid’s profile'}, 'commenterProfileId': 'ACoAAAgEc6ABRkky1hofUfSkj2OJATmTBUrlwdo', 'supplementaryActorInfoV2': {'textDirection': 'USER_LOCALE', 'text': ' • 3rd+'}, 'author': False, 'subtitle': 'Snr. Field Apps Engineer at Micron Technology', 'actorUnion': {'profileUrn': 'urn:li:fsd_profile:ACoAAAgEc6ABRkky1hofUfSkj2OJATmTBUrlwdo'}, 'navigationUrl': 'https://www.linkedin.com/in/or-lapid-16806939', 'title': {'textDirection': 'USER_LOCALE', 'text': 'Or Lapid'}, 'trackingActionType': 'viewMember', 'accessibilityText': 'View Or Lapid’s profile', 'trackingId': 'üa#á\\x9d\\x1dD\\x99¯\\xa0ÁjÔÜÍs'}, 'timeOffset': -1, 'originalLanguage': 'English', 'rootSocialPermissions': {'dashEntityUrn': 'urn:li:fsd_socialPermissions:(urn:li:ugcPost:7240079285212827648,urn:li:fsd_profile:ACoAAAgEc6ABRkky1hofUfSkj2OJATmTBUrlwdo)', 'canPostComments': True, 'entityUrn': 'urn:li:fs_socialPermissions:(urn:li:ugcPost:7240079285212827648,urn:li:fs_profile:(ACoAAAgEc6ABRkky1hofUfSkj2OJATmTBUrlwdo,en_US))', 'messagePermission': 'PUBLIC', 'canShare': True, 'canReact': True}, 'commenter': {'com.linkedin.voyager.feed.MemberActor': {'urn': 'urn:li:member:134509472', 'miniProfile': {'firstName': 'Or', 'lastName': 'Lapid', 'dashEntityUrn': 'urn:li:fsd_profile:ACoAAAgEc6ABRkky1hofUfSkj2OJATmTBUrlwdo', 'occupation': 'Snr. Field Apps Engineer at Micron Technology', 'objectUrn': 'urn:li:member:134509472', 'entityUrn': 'urn:li:fs_miniProfile:ACoAAAgEc6ABRkky1hofUfSkj2OJATmTBUrlwdo', '$anti_abuse_metadata': {'$anti_abuse_uuid': '4aca8edc-eba3-446d-aea8-02d33acf71d3'}, 'backgroundImage': {'com.linkedin.common.VectorImage': {'artifacts': [{'width': 800, 'fileIdentifyingUrlPathSegment': '200_800/profile-displaybackgroundimage-shrink_200_800/0/1698991294976?e=1731542400&v=beta&t=Q0EljcZZvFBK7J86IQ1hdLqP5ArtsfI6xcXsVcmtS3E', 'expiresAt': 1731542400000, 'height': 200}, {'width': 1284, 'fileIdentifyingUrlPathSegment': '350_1400/profile-displaybackgroundimage-shrink_350_1400/0/1698991294976?e=1731542400&v=beta&t=GMfnclVpiuWsKBjcFwUSdfYDpqOwWAFR1tNc83tfo_Y', 'expiresAt': 1731542400000, 'height': 321}], 'rootUrl': 'https://media.licdn.com/dms/image/v2/D4D16AQGJcilAO0vsyQ/profile-displaybackgroundimage-shrink_'}}, 'publicIdentifier': 'or-lapid-16806939', 'trackingId': '/GEj4Z0dRJmvoMFq1NzNcw=='}, 'showFollowAction': False, 'followingInfo': {'entityUrn': 'urn:li:fs_followingInfo:urn:li:member:ACoAAAgEc6ABRkky1hofUfSkj2OJATmTBUrlwdo', 'dashFollowingStateUrn': 'urn:li:fsd_followingState:urn:li:fsd_profile:ACoAAAgEc6ABRkky1hofUfSkj2OJATmTBUrlwdo', 'following': False, 'trackingUrn': 'urn:li:member:134509472', 'followingType': 'DEFAULT'}, 'distance': {'value': 'OUT_OF_NETWORK'}, 'skillNames': []}}, 'socialDetail': {'urn': 'urn:li:comment:(ugcPost:7240079285212827648,7240329572053876736)', 'threadId': 'comment:(ugcPost:7240079285212827648,7240329572053876736)', 'allowedCommentersScope': 'ALL', 'dashEntityUrn': 'urn:li:fsd_socialDetail:(urn:li:comment:(ugcPost:7240079285212827648,7240329572053876736),urn:li:comment:(ugcPost:7240079285212827648,7240329572053876736),urn:li:highlightedReply:-)', 'comments': {'paging': {'count': 0, 'start': 0, 'total': 0, 'links': []}, 'elements': []}, 'totalSocialActivityCounts': {'socialDetailEntityUrn': 'urn:li:fs_socialDetail:urn:li:comment:(ugcPost:7240079285212827648,7240329572053876736)', 'urn': 'urn:li:comment:(ugcPost:7240079285212827648,7240329572053876736)', 'numComments': 0, 'dashEntityUrn': 'urn:li:fsd_socialActivityCounts:urn:li:comment:(ugcPost:7240079285212827648,7240329572053876736)', 'reactionTypeCounts': [], 'entityUrn': 'urn:li:fs_socialActivityCounts:urn:li:comment:(ugcPost:7240079285212827648,7240329572053876736)', 'numLikes': 0, 'liked': False}, 'socialPermissions': {'dashEntityUrn': 'urn:li:fsd_socialPermissions:(urn:li:comment:(ugcPost:7240079285212827648,7240329572053876736),urn:li:fsd_profile:ACoAAFKeoqQBg713qZRSTVBz06G6KtRigDWv8Jw)', 'canPostComments': True, 'entityUrn': 'urn:li:fs_socialPermissions:(urn:li:comment:(ugcPost:7240079285212827648,7240329572053876736),urn:li:fs_profile:(ACoAAFKeoqQBg713qZRSTVBz06G6KtRigDWv8Jw,en_US))', 'canShare': True, 'canReact': True}, 'entityUrn': 'urn:li:fs_socialDetail:urn:li:comment:(ugcPost:7240079285212827648,7240329572053876736)', 'hideFirstPrompt': True, 'liked': False, 'showShareButton': False, 'likes': {'paging': {'start': 0, 'count': 0, 'total': 0, 'links': []}, 'elements': []}}, 'urn': 'urn:li:comment:(ugcPost:7240079285212827648,7240329572053876736)', 'threadId': 'ugcPost:7240079285212827648', 'entityUrn': 'urn:li:fs_objectComment:(7240329572053876736,ugcPost:7240079285212827648)', 'commentV2': {'textDirection': 'FIRST_STRONG', 'text': 'Gaza civilians chose HamasIssis who turned their lives to trash!\\nStole BILLIONS OF DOLLARS to the leaders bank accounts and invested the rest in tunnels, weapons, rockets!!!\\n\\nI pray for Gaza to be free - from HamasIssis!!!'}, 'createdTime': 1726229088796, 'canDelete': True, 'comment': {'values': [{'value': 'Gaza civilians chose HamasIssis who turned their lives to trash!\\nStole BILLIONS OF DOLLARS to the leaders bank accounts and invested the rest in tunnels, weapons, rockets!!!\\n\\nI pray for Gaza to be free - from HamasIssis!!!'}]}, 'permalink': 'https://www.linkedin.com/feed/update/urn:li:ugcPost:7240079285212827648?commentUrn=urn%3Ali%3Acomment%3A%28ugcPost%3A7240079285212827648%2C7240329572053876736%29&dashCommentUrn=urn%3Ali%3Afsd_comment%3A%287240329572053876736%2Curn%3Ali%3AugcPost%3A7240079285212827648%29', 'actions': ['SHARE_VIA', 'DELETE', 'BLOCK_COMMENTER', 'REPORT'], 'contributed': False, 'trackingId': 'GQuBUhvVwMHigxjXGBdVmw=='}\n"
     ]
    }
   ],
   "source": [
    "print(comments[0])"
   ]
  }
 ],
 "metadata": {
  "kernelspec": {
   "display_name": "Python 3",
   "language": "python",
   "name": "python3"
  },
  "language_info": {
   "codemirror_mode": {
    "name": "ipython",
    "version": 3
   },
   "file_extension": ".py",
   "mimetype": "text/x-python",
   "name": "python",
   "nbconvert_exporter": "python",
   "pygments_lexer": "ipython3",
   "version": "3.12.4"
  }
 },
 "nbformat": 4,
 "nbformat_minor": 2
}
