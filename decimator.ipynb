{
 "cells": [
  {
   "cell_type": "code",
   "execution_count": 4,
   "metadata": {},
   "outputs": [
    {
     "data": {
      "text/plain": [
       "True"
      ]
     },
     "execution_count": 4,
     "metadata": {},
     "output_type": "execute_result"
    }
   ],
   "source": [
    "import os\n",
    "from dotenv import load_dotenv\n",
    "import chromedriver_autoinstaller \n",
    "import undetected_chromedriver as uc \n",
    "\n",
    "chromedriver_autoinstaller.install()\n",
    "driver = uc.Chrome(headless=False, use_subprocess=False)\n",
    "\n",
    "load_dotenv()\n"
   ]
  },
  {
   "cell_type": "code",
   "execution_count": 5,
   "metadata": {},
   "outputs": [
    {
     "name": "stdout",
     "output_type": "stream",
     "text": [
      "stand-with-palestine@outlook.com Palestine1948 Udo Hamm\n"
     ]
    }
   ],
   "source": [
    "\n",
    "# Get credentials from .env file\n",
    "linkedin_email = os.getenv(\"LINKEDIN_EMAIL\")\n",
    "linkedin_password = os.getenv(\"LINKEDIN_PASSWORD\")\n",
    "# LinkedIN post URL\n",
    "post_url=\"https://www.linkedin.com/feed/update/urn:li:activity:7238229706053935104/\"\n",
    " # Person to delete comment/reply\n",
    "commenter_name = \"Udo Hamm\"\n",
    "print(linkedin_email, linkedin_password, commenter_name)"
   ]
  },
  {
   "cell_type": "code",
   "execution_count": 6,
   "metadata": {},
   "outputs": [],
   "source": [
    "from selenium import webdriver\n",
    "from selenium.webdriver.common.by import By\n",
    "from selenium.webdriver.chrome.service import Service\n",
    "from selenium.webdriver.common.keys import Keys\n",
    "from dotenv import load_dotenv\n",
    "import os\n",
    "import time\n",
    "\n",
    "# Initialize WebDriver (assumes it is in the same directory)\n",
    "# driver = webdriver.Chrome(service=Service('./chromedriver'))\n",
    "\n",
    "# Log in to LinkedIn\n",
    "driver.get(\"https://www.linkedin.com/login\")\n",
    "time.sleep(2)\n",
    "\n",
    "email_input = driver.find_element(By.ID, \"username\")\n",
    "password_input = driver.find_element(By.ID, \"password\")\n",
    "\n",
    "email_input.send_keys(linkedin_email)\n",
    "password_input.send_keys(linkedin_password)\n",
    "password_input.send_keys(Keys.RETURN)\n",
    "\n",
    "# Navigate to the post\n",
    "time.sleep(30)\n",
    "driver.get(post_url)\n",
    "time.sleep(5)\n",
    "\n",
    "# Scroll down to load comments and search for the comment\n",
    "found_comment = False\n",
    "scrolls_since_not_found = 0\n",
    "while not found_comment:\n",
    "    comments = driver.find_elements(By.CLASS_NAME, \"comments-comment-entity\")\n",
    "    for comment in comments:\n",
    "        try:\n",
    "            commenter = comment.find_element(By.CLASS_NAME, \"comments-comment-meta__description-title\")\n",
    "            if commenter_name.lower() in commenter.text.lower():\n",
    "                # Click the options button (three dots) next to the comment\n",
    "                options_button = comment.find_element(By.CLASS_NAME, \"comment-options-dropdown__trigger-icon\")\n",
    "                options_button.click()\n",
    "                time.sleep(1)\n",
    "\n",
    "                # Click the 'Delete' option from the dropdown menu\n",
    "                delete_option = driver.find_element(By.XPATH, \"//span[text()='Delete']\")\n",
    "                delete_option.click()\n",
    "                time.sleep(1)\n",
    "\n",
    "                # Confirm the deletion (element has css artdeco-button--primary)\n",
    "                confirm_button = driver.find_element(By.CLASS_NAME, \"artdeco-button--primary\")\n",
    "                confirm_button.click()\n",
    "                time.sleep(1)\n",
    "                print(f\"Deleted comment by {commenter_name}\")\n",
    "                found_comment = True\n",
    "                break\n",
    "        except Exception as e:\n",
    "            print(f\"An error occurred: {e}\")\n",
    "    if not found_comment:\n",
    "        driver.execute_script(\"window.scrollTo(0, document.body.scrollHeight);\")\n",
    "        scrolls_since_not_found += 1\n",
    "        time.sleep(3)\n",
    "        if scrolls_since_not_found > 10:\n",
    "            print(\"Could not find the comment. Exiting.\")\n",
    "            break\n",
    "\n",
    "# Close the browser\n",
    "driver.quit()"
   ]
  }
 ],
 "metadata": {
  "kernelspec": {
   "display_name": "m1",
   "language": "python",
   "name": "python3"
  },
  "language_info": {
   "codemirror_mode": {
    "name": "ipython",
    "version": 3
   },
   "file_extension": ".py",
   "mimetype": "text/x-python",
   "name": "python",
   "nbconvert_exporter": "python",
   "pygments_lexer": "ipython3",
   "version": "3.11.1"
  }
 },
 "nbformat": 4,
 "nbformat_minor": 2
}
