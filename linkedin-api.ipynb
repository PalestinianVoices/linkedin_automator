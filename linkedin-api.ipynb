{
 "cells": [
  {
   "cell_type": "code",
   "execution_count": null,
   "metadata": {},
   "outputs": [],
   "source": [
    "# client id: 86y2ayka972heb\n",
    "# client secret: bOYoeX9NrG41tse2\n",
    "\n"
   ]
  },
  {
   "cell_type": "code",
   "execution_count": 7,
   "metadata": {},
   "outputs": [
    {
     "name": "stdout",
     "output_type": "stream",
     "text": [
      "Please copy the URL and paste it in browser for getting authentication code\n",
      "\n",
      "https://www.linkedin.com/oauth/v2/authorization?response_type=code&client_id=86y2ayka972heb&redirect_uri=http%3A%2F%2Flocalhost%2F&scope=r_liteprofile\n"
     ]
    }
   ],
   "source": [
    "import requests\n",
    "\n",
    "\n",
    "#get access_token by post with user & password\n",
    "#Step 1 - GET to request for authentication\n",
    "def get_auth_link():\n",
    "    URL = \"https://www.linkedin.com/oauth/v2/authorization\"\n",
    "    client_id=\"86y2ayka972heb\"\n",
    "    redirect_uri = 'http://localhost/'\n",
    "    scope='w_member_social'\n",
    "    PARAMS = {'response_type':'code', 'client_id':client_id,  'redirect_uri':redirect_uri, 'scope':scope}\n",
    "    r = requests.get(url = URL, params = PARAMS)\n",
    "    return_url = r.url\n",
    "    print('Please copy the URL and paste it in browser for getting authentication code')\n",
    "    print('')\n",
    "    print(return_url)\n",
    "\n",
    "get_auth_link()"
   ]
  },
  {
   "cell_type": "markdown",
   "metadata": {},
   "source": [
    "Get access token"
   ]
  },
  {
   "cell_type": "code",
   "execution_count": 2,
   "metadata": {},
   "outputs": [
    {
     "name": "stdout",
     "output_type": "stream",
     "text": [
      "{'access_token': 'AQUxKsjYK5j8sxqE8yzpYGimGZyzvYLa6FrHXfAeOVRtlbetzLk6fdSTsEkFhWTHzICLBqeMu6PfvPY5O3YOREQJgPMYwsGZvKg94ewySLl6aSaa0gtkPSnGj3a_vrWQmweK-S0Z1KTcKzkeaAbzJPFUZJCM9Ql4AxbnQNM0u3IKfOs2esL-53LaKyrR_ZkWhblTmS-Kk-7mTtCcAvODncpYKc5jhh0v5lfz4QKfIOwBc1q0zUBI3uHCvFXyRXtiCNEn4I8r8BW08QZGF7xoegI4VgSJezLbBKz-_HCU8F5xtQzFZZrqfOebG99VNDzDmBcySeWG7oDKM1sk8P57tIMklHjBNA', 'expires_in': 5183999, 'scope': 'w_member_social'}\n"
     ]
    },
    {
     "data": {
      "text/plain": [
       "'AQUxKsjYK5j8sxqE8yzpYGimGZyzvYLa6FrHXfAeOVRtlbetzLk6fdSTsEkFhWTHzICLBqeMu6PfvPY5O3YOREQJgPMYwsGZvKg94ewySLl6aSaa0gtkPSnGj3a_vrWQmweK-S0Z1KTcKzkeaAbzJPFUZJCM9Ql4AxbnQNM0u3IKfOs2esL-53LaKyrR_ZkWhblTmS-Kk-7mTtCcAvODncpYKc5jhh0v5lfz4QKfIOwBc1q0zUBI3uHCvFXyRXtiCNEn4I8r8BW08QZGF7xoegI4VgSJezLbBKz-_HCU8F5xtQzFZZrqfOebG99VNDzDmBcySeWG7oDKM1sk8P57tIMklHjBNA'"
      ]
     },
     "execution_count": 2,
     "metadata": {},
     "output_type": "execute_result"
    }
   ],
   "source": [
    "# AQQdB3MJbmbEVlUvO95bGM1WK8sY1eeZv6WEMM8VhkGDuLF1UgXJsI1NcgVn3-Uqh9CLJMOOxEulHOaI2qFMVLXYSbkzQURyL81_ibHrLKbF3meHNoVmA3jLwYFxr_LZTiPlqulgNgAYeIa5agmnNnFmpx9sNixDfi1cdthSYJGQaqEOyDmIwSchAd-UGVXQ9tarWL4Z-N_Haol43KQ\n",
    "\n",
    "import requests\n",
    "import json\n",
    "\n",
    "def get_access_token():\n",
    "    headers = {'Content-Type': 'application/x-www-form-urlencoded', 'User-Agent': 'OAuth gem v0.4.4'}\n",
    "    AUTH_CODE = \"AQQdB3MJbmbEVlUvO95bGM1WK8sY1eeZv6WEMM8VhkGDuLF1UgXJsI1NcgVn3-Uqh9CLJMOOxEulHOaI2qFMVLXYSbkzQURyL81_ibHrLKbF3meHNoVmA3jLwYFxr_LZTiPlqulgNgAYeIa5agmnNnFmpx9sNixDfi1cdthSYJGQaqEOyDmIwSchAd-UGVXQ9tarWL4Z-N_Haol43KQ\"\n",
    "    ACCESS_TOKEN_URL = 'https://www.linkedin.com/oauth/v2/accessToken'\n",
    "    client_id= \"86y2ayka972heb\"\n",
    "    client_secret= \"bOYoeX9NrG41tse2\"\n",
    "    redirect_uri = 'http://localhost/'\n",
    "    PARAM = {'grant_type': 'authorization_code',\n",
    "      'code': AUTH_CODE,\n",
    "      'redirect_uri': redirect_uri,\n",
    "      'client_id': client_id,\n",
    "      'client_secret': client_secret}\n",
    "    response = requests.post(ACCESS_TOKEN_URL, data=PARAM, headers=headers, timeout=600)\n",
    "    data = response.json()\n",
    "    print(data)\n",
    "    access_token = data['access_token']\n",
    "    return access_token\n",
    "\n",
    "get_access_token()"
   ]
  },
  {
   "cell_type": "code",
   "execution_count": 42,
   "metadata": {},
   "outputs": [],
   "source": [
    "access_token = 'AQUxKsjYK5j8sxqE8yzpYGimGZyzvYLa6FrHXfAeOVRtlbetzLk6fdSTsEkFhWTHzICLBqeMu6PfvPY5O3YOREQJgPMYwsGZvKg94ewySLl6aSaa0gtkPSnGj3a_vrWQmweK-S0Z1KTcKzkeaAbzJPFUZJCM9Ql4AxbnQNM0u3IKfOs2esL-53LaKyrR_ZkWhblTmS-Kk-7mTtCcAvODncpYKc5jhh0v5lfz4QKfIOwBc1q0zUBI3uHCvFXyRXtiCNEn4I8r8BW08QZGF7xoegI4VgSJezLbBKz-_HCU8F5xtQzFZZrqfOebG99VNDzDmBcySeWG7oDKM1sk8P57tIMklHjBNA'"
   ]
  },
  {
   "cell_type": "markdown",
   "metadata": {},
   "source": [
    "Make post (need special permission)"
   ]
  },
  {
   "cell_type": "code",
   "execution_count": 55,
   "metadata": {},
   "outputs": [
    {
     "name": "stdout",
     "output_type": "stream",
     "text": [
      "{'status': 403, 'serviceErrorCode': 100, 'code': 'ACCESS_DENIED', 'message': 'Field Value validation failed in REQUEST_BODY: Data Processing Exception while processing fields [/author]'}\n"
     ]
    }
   ],
   "source": [
    "import requests\n",
    "\n",
    "api_url = \"https://api.linkedin.com/v2/ugcPosts\"\n",
    "headers = {\n",
    "    'Authorization': f'Bearer {access_token}',\n",
    "    'Content-Type': 'application/json',\n",
    "    'X-Restli-Protocol-Version': '2.0.0'\n",
    "}\n",
    "post_data = {\n",
    "    \"author\": \"urn:li:organization:99380150\",\n",
    "    \"lifecycleState\": \"PUBLISHED\",\n",
    "    \"specificContent\": {\n",
    "        \"com.linkedin.ugc.ShareContent\": {\n",
    "            \"shareCommentary\": {\n",
    "                \"text\": \"Stand With Palestine\"\n",
    "            },\n",
    "            \"shareMediaCategory\": \"NONE\"\n",
    "        }\n",
    "    },\n",
    "    \"visibility\": {\n",
    "        \"com.linkedin.ugc.MemberNetworkVisibility\": \"PUBLIC\"\n",
    "    }\n",
    "}\n",
    "\n",
    "response = requests.post(api_url, headers=headers, json=post_data)\n",
    "print(response.json())\n"
   ]
  },
  {
   "cell_type": "markdown",
   "metadata": {},
   "source": [
    "Get user info also need special permission"
   ]
  },
  {
   "cell_type": "code",
   "execution_count": 44,
   "metadata": {},
   "outputs": [
    {
     "name": "stdout",
     "output_type": "stream",
     "text": [
      "Error: {\"status\":403,\"serviceErrorCode\":100,\"code\":\"ACCESS_DENIED\",\"message\":\"Not enough permissions to access: userinfo.GET.NO_VERSION\"}\n"
     ]
    }
   ],
   "source": [
    "import requests\n",
    "\n",
    "\n",
    "url = \"https://api.linkedin.com/v2/userinfo\"\n",
    "headers = {\n",
    "    \"Authorization\": f\"Bearer {access_token}\",\n",
    "    \"Content-Type\": \"application/json\"\n",
    "}\n",
    "\n",
    "response = requests.get(url, headers=headers)\n",
    "\n",
    "if response.status_code == 200:\n",
    "    userinfo = response.json()\n",
    "    print(userinfo)\n",
    "else:\n",
    "    print(\"Error:\", response.text)"
   ]
  },
  {
   "cell_type": "code",
   "execution_count": null,
   "metadata": {},
   "outputs": [],
   "source": [
    "#https://www.linkedin.com/feed/update/urn:li:ugcPost:7240034203906555907?commentUrn=urn%3Ali%3Acomment%3A%28ugcPost%3A7240034203906555907%2C7240305842644779009%29&dashCommentUrn=urn%3Ali%3Afsd_comment%3A%287240305842644779009%2Curn%3Ali%3AugcPost%3A7240034203906555907%29"
   ]
  },
  {
   "cell_type": "markdown",
   "metadata": {},
   "source": [
    "Get comment"
   ]
  },
  {
   "cell_type": "code",
   "execution_count": 52,
   "metadata": {},
   "outputs": [
    {
     "name": "stdout",
     "output_type": "stream",
     "text": [
      "Failed to retrieve comment: 403\n",
      "{\"status\":403,\"serviceErrorCode\":100,\"code\":\"ACCESS_DENIED\",\"message\":\"Not enough permissions to access: socialActions.GET.NO_VERSION\"}\n"
     ]
    }
   ],
   "source": [
    "import requests\n",
    "\n",
    "\n",
    "# API URL components\n",
    "ugc_post_urn = 'urn:li:ugcPost:7240079285212827648'\n",
    "comment_id = '7240329572053876736'\n",
    "\n",
    "# API URL to get the comment\n",
    "url = f'https://api.linkedin.com/v2/socialActions/{ugc_post_urn}/comments/{comment_id}'\n",
    "\n",
    "# Set up headers with access token for authorization\n",
    "headers = {\n",
    "    'Authorization': f'Bearer {access_token}',\n",
    "    'Content-Type': 'application/json',\n",
    "    'LinkedIn-Version': '202306'  # Specify the version here\n",
    "}\n",
    "\n",
    "# Make the GET request\n",
    "response = requests.get(url, headers=headers)\n",
    "\n",
    "# Check if the request was successful\n",
    "if response.status_code == 200:\n",
    "    comment_data = response.json()  # Parse the response as JSON\n",
    "    print(comment_data)\n",
    "else:\n",
    "    print(f\"Failed to retrieve comment: {response.status_code}\")\n",
    "    print(response.text)  # Print the error message if available"
   ]
  },
  {
   "cell_type": "markdown",
   "metadata": {},
   "source": [
    "Get company posts"
   ]
  },
  {
   "cell_type": "code",
   "execution_count": 57,
   "metadata": {},
   "outputs": [
    {
     "name": "stdout",
     "output_type": "stream",
     "text": [
      "Failed to create post: 403\n",
      "{'status': 403, 'serviceErrorCode': 100, 'code': 'ACCESS_DENIED', 'message': 'Field Value validation failed in REQUEST_BODY: Data Processing Exception while processing fields [/author]'}\n"
     ]
    }
   ],
   "source": [
    "import requests\n",
    "import json\n",
    "\n",
    "# Replace with your company URN\n",
    "company_urn = 'urn:li:organization:99380150'\n",
    "\n",
    "# LinkedIn API endpoint for creating a post\n",
    "url = 'https://api.linkedin.com/v2/posts'\n",
    "\n",
    "# Payload for the POST request\n",
    "payload = {\n",
    "    'author': company_urn,\n",
    "}\n",
    "\n",
    "# Headers for the request\n",
    "headers = {\n",
    "    'Authorization': f'Bearer {access_token}',\n",
    "    'Content-Type': 'application/json',\n",
    "    'X-Restli-Protocol-Version': '2.0.0',\n",
    "    'LinkedIn-Version': '202306'  # Specify the version here\n",
    "}\n",
    "\n",
    "# Make the POST request\n",
    "response = requests.post(url, headers=headers, data=json.dumps(payload))\n",
    "\n",
    "# Check the response\n",
    "if response.status_code == 201:\n",
    "    print('Post created successfully.')\n",
    "    print(response.json())\n",
    "else:\n",
    "    print(f'Failed to create post: {response.status_code}')\n",
    "    print(response.json())\n"
   ]
  }
 ],
 "metadata": {
  "kernelspec": {
   "display_name": "m1",
   "language": "python",
   "name": "python3"
  },
  "language_info": {
   "codemirror_mode": {
    "name": "ipython",
    "version": 3
   },
   "file_extension": ".py",
   "mimetype": "text/x-python",
   "name": "python",
   "nbconvert_exporter": "python",
   "pygments_lexer": "ipython3",
   "version": "3.12.4"
  }
 },
 "nbformat": 4,
 "nbformat_minor": 2
}
