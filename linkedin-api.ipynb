{
 "cells": [
  {
   "cell_type": "code",
   "execution_count": null,
   "metadata": {},
   "outputs": [],
   "source": [
    "# client id: 86y2ayka972heb\n",
    "# client secret: bOYoeX9NrG41tse2\n",
    "\n"
   ]
  },
  {
   "cell_type": "markdown",
   "metadata": {},
   "source": [
    "Get authorization link with OpenId"
   ]
  },
  {
   "cell_type": "code",
   "execution_count": 115,
   "metadata": {},
   "outputs": [
    {
     "name": "stdout",
     "output_type": "stream",
     "text": [
      "Please copy the URL and paste it in browser for getting authentication code\n",
      "\n",
      "https://www.linkedin.com/oauth/v2/authorization?response_type=code&client_id=86y2ayka972heb&redirect_uri=http%3A%2F%2Flocalhost%2F&scope=openid+profile+email+w_member_social_feed\n"
     ]
    }
   ],
   "source": [
    "import requests\n",
    "\n",
    "#get access_token by post with user & password\n",
    "#Step 1 - GET to request for authentication\n",
    "def get_auth_link():\n",
    "    URL = \"https://www.linkedin.com/oauth/v2/authorization\"\n",
    "    client_id=\"86y2ayka972heb\"\n",
    "    redirect_uri = 'http://localhost/'\n",
    "    scope = 'openid profile email w_member_social'  \n",
    "    PARAMS = {'response_type':'code', 'client_id':client_id,  'redirect_uri':redirect_uri, 'scope':scope}\n",
    "    r = requests.get(url = URL, params = PARAMS)\n",
    "    return_url = r.url\n",
    "    print('Please copy the URL and paste it in browser for getting authentication code')\n",
    "    print('')\n",
    "    print(return_url)\n",
    "\n",
    "get_auth_link()"
   ]
  },
  {
   "cell_type": "markdown",
   "metadata": {},
   "source": [
    "Get access token"
   ]
  },
  {
   "cell_type": "code",
   "execution_count": 93,
   "metadata": {},
   "outputs": [
    {
     "name": "stdout",
     "output_type": "stream",
     "text": [
      "{'access_token': 'AQUQBeUsI_NHBnR3vmBvs6vh7KVV7FuRaVOtNAT9X6Xq678Vu42ZpK62nbW8_17IcdaMtZ0ZjDX9rzpPkHz4fv6ft02_acucAAsl5vgzlXb6cQE6h_0ZiHNtx_wPWZH3IhmjgTvyuHvxUmj-PfQjQVA4B0xFecAI8uwOquVF5jv_8vQTrssPpVP59oi_fUKsqOOI4-Oyhu8VYC_P1EHTuL_NHZ0G9VJilYelWptWmjqocD3Z0RhyYwik_Ufq6RIXsVr8PKGnvDiby5NT3SUtIbb7zCPBNSsPxAVuSLlNs6mSVKs9rUl2Hhb8K3NPb7tTe5Sgew-9MHh75rsDVuEl_W26PDgp9w', 'expires_in': 5183999, 'scope': 'email,openid,profile,w_member_social', 'token_type': 'Bearer', 'id_token': 'eyJ6aXAiOiJSUzI1NiIsInR5cCI6IkpXVCIsImtpZCI6ImQ5Mjk2NjhhLWJhYjEtNGM2OS05NTk4LTQzNzMxNDk3MjNmZiIsImFsZyI6IlJTMjU2In0.eyJpc3MiOiJodHRwczovL3d3dy5saW5rZWRpbi5jb20vb2F1dGgiLCJhdWQiOiI4NnkyYXlrYTk3MmhlYiIsImlhdCI6MTcyNjI0MTc0MywiZXhwIjoxNzI2MjQ1MzQzLCJzdWIiOiJLYjhWRUhtSnQyIiwibmFtZSI6IkVzc2FtIFdpc2FtIiwiZ2l2ZW5fbmFtZSI6IkVzc2FtIiwiZmFtaWx5X25hbWUiOiJXaXNhbSIsInBpY3R1cmUiOiJodHRwczovL21lZGlhLmxpY2RuLmNvbS9kbXMvaW1hZ2UvdjIvRDU2MDNBUUg3WEF3cF9uWkFVZy9wcm9maWxlLWRpc3BsYXlwaG90by1zaHJpbmtfMTAwXzEwMC9wcm9maWxlLWRpc3BsYXlwaG90by1zaHJpbmtfMTAwXzEwMC8wLzE3MjQ0NjA5NjA4MjI_ZT0yMTQ3NDgzNjQ3JnY9YmV0YSZ0PXIwaUM4cmpYT3F3YmtCZzA3aG9IcmZoZlgzN3hCdEFJdmJ3ZUdZblpuSEUiLCJlbWFpbCI6ImVzc2Ftd2lzYW1Ab3V0bG9vay5jb20iLCJlbWFpbF92ZXJpZmllZCI6InRydWUiLCJsb2NhbGUiOiJlbl9VUyJ9.Kb8m3mte4J5DYrVjbpxQ2hhxlbQ-2sMRToH57Xw-JJ6zga5tAHtBnx0yTcFEatHGJ9weL5LhHU3amwuhAg7vnsJB4v6d0bpA_TKU_kxNtLbS06LAxtP2joC-NEf52QhKTfNysKtIqI_RnWuCqwbPaVMxNT2cQoZgVg7nAWxVgHyKHzhQx0SrHJxSYAU4r9HWiDvLHXtWagJiRIjpU6qEOXE9Jf6QQQ_loq4pMiQOwlZLMuoFvL3ZoAZw-0a8cgDjqzGxs9dA8Bu-jH9HCMtVpNn4DgZnBY028kR06E7LhMGDl52Ef_yrDnrHjVKv3ARIf7VMSMn1aPtMUZFh9xRqTzTlzcZwRmBdJTrqBCjLXQu69zx8u_vYKQH64GouYYmOeMzR5BmC0g-n-KMUrZja96Sw7swsWLkVLqngf0v9fV5U7C4NpVXOrdMRLwCKbnTYUxRndbjNY0e6P5MUkht8-lzdvxtSEo38Z_ZQZPgCQBHbNDAopnY7bKfUXbRneXvH3Zmb21npUH3fDwU7zgLH2EHIuvGYwY5p8YdlSoJ86UB_53zgAiBRkWh_JsRwsQrMmHFEuqWMb7-bTwhDozq_nFHaGxh1GuYIL9sByhwk4shnemTqymg2weotrUsc8tKjmJGW3VfI2SpuP8mGvjRMEYJ9QTPo4mh6tlDp6n2Ya5k'}\n"
     ]
    },
    {
     "data": {
      "text/plain": [
       "'AQUQBeUsI_NHBnR3vmBvs6vh7KVV7FuRaVOtNAT9X6Xq678Vu42ZpK62nbW8_17IcdaMtZ0ZjDX9rzpPkHz4fv6ft02_acucAAsl5vgzlXb6cQE6h_0ZiHNtx_wPWZH3IhmjgTvyuHvxUmj-PfQjQVA4B0xFecAI8uwOquVF5jv_8vQTrssPpVP59oi_fUKsqOOI4-Oyhu8VYC_P1EHTuL_NHZ0G9VJilYelWptWmjqocD3Z0RhyYwik_Ufq6RIXsVr8PKGnvDiby5NT3SUtIbb7zCPBNSsPxAVuSLlNs6mSVKs9rUl2Hhb8K3NPb7tTe5Sgew-9MHh75rsDVuEl_W26PDgp9w'"
      ]
     },
     "execution_count": 93,
     "metadata": {},
     "output_type": "execute_result"
    }
   ],
   "source": [
    "# AQQmxPtem7TwXufziGHixs8XikwVA9kcG9R8T9CFT34_lYbGaALRWB-L64SUnF3VRcEAHPdbbUlulft8bM-AU5DGhSrM8xfsr4ZylLBLCpM_pCspNh3R6GKIvFseHpShA-0G0Hp5AE3AM17jJ2WovkA5qiR2Sr10yGt1rRIdngqY0WzNV4jaAxQs8q9eA3RS7fL5lfUhN1sEfAzuKAg\n",
    "import requests\n",
    "import json\n",
    "\n",
    "def get_access_token():\n",
    "    headers = {'Content-Type': 'application/x-www-form-urlencoded', 'User-Agent': 'OAuth gem v0.4.4'}\n",
    "    AUTH_CODE = \"AQQmxPtem7TwXufziGHixs8XikwVA9kcG9R8T9CFT34_lYbGaALRWB-L64SUnF3VRcEAHPdbbUlulft8bM-AU5DGhSrM8xfsr4ZylLBLCpM_pCspNh3R6GKIvFseHpShA-0G0Hp5AE3AM17jJ2WovkA5qiR2Sr10yGt1rRIdngqY0WzNV4jaAxQs8q9eA3RS7fL5lfUhN1sEfAzuKAg\"\n",
    "    ACCESS_TOKEN_URL = 'https://www.linkedin.com/oauth/v2/accessToken'\n",
    "    client_id= \"86y2ayka972heb\"\n",
    "    client_secret= \"bOYoeX9NrG41tse2\"\n",
    "    redirect_uri = 'http://localhost/'\n",
    "    PARAM = {'grant_type': 'authorization_code',\n",
    "      'code': AUTH_CODE,\n",
    "      'redirect_uri': redirect_uri,\n",
    "      'client_id': client_id,\n",
    "      'client_secret': client_secret}\n",
    "    response = requests.post(ACCESS_TOKEN_URL, data=PARAM, headers=headers, timeout=600)\n",
    "    data = response.json()\n",
    "    print(data)\n",
    "    access_token = data['access_token']\n",
    "    return access_token\n",
    "\n",
    "get_access_token()"
   ]
  },
  {
   "cell_type": "code",
   "execution_count": 96,
   "metadata": {},
   "outputs": [
    {
     "name": "stdout",
     "output_type": "stream",
     "text": [
      "AQUQBeUsI_NHBnR3vmBvs6vh7KVV7FuRaVOtNAT9X6Xq678Vu42ZpK62nbW8_17IcdaMtZ0ZjDX9rzpPkHz4fv6ft02_acucAAsl5vgzlXb6cQE6h_0ZiHNtx_wPWZH3IhmjgTvyuHvxUmj-PfQjQVA4B0xFecAI8uwOquVF5jv_8vQTrssPpVP59oi_fUKsqOOI4-Oyhu8VYC_P1EHTuL_NHZ0G9VJilYelWptWmjqocD3Z0RhyYwik_Ufq6RIXsVr8PKGnvDiby5NT3SUtIbb7zCPBNSsPxAVuSLlNs6mSVKs9rUl2Hhb8K3NPb7tTe5Sgew-9MHh75rsDVuEl_W26PDgp9w\n",
      "eyJ6aXAiOiJSUzI1NiIsInR5cCI6IkpXVCIsImtpZCI6ImQ5Mjk2NjhhLWJhYjEtNGM2OS05NTk4LTQzNzMxNDk3MjNmZiIsImFsZyI6IlJTMjU2In0.eyJpc3MiOiJodHRwczovL3d3dy5saW5rZWRpbi5jb20vb2F1dGgiLCJhdWQiOiI4NnkyYXlrYTk3MmhlYiIsImlhdCI6MTcyNjI0MTc0MywiZXhwIjoxNzI2MjQ1MzQzLCJzdWIiOiJLYjhWRUhtSnQyIiwibmFtZSI6IkVzc2FtIFdpc2FtIiwiZ2l2ZW5fbmFtZSI6IkVzc2FtIiwiZmFtaWx5X25hbWUiOiJXaXNhbSIsInBpY3R1cmUiOiJodHRwczovL21lZGlhLmxpY2RuLmNvbS9kbXMvaW1hZ2UvdjIvRDU2MDNBUUg3WEF3cF9uWkFVZy9wcm9maWxlLWRpc3BsYXlwaG90by1zaHJpbmtfMTAwXzEwMC9wcm9maWxlLWRpc3BsYXlwaG90by1zaHJpbmtfMTAwXzEwMC8wLzE3MjQ0NjA5NjA4MjI_ZT0yMTQ3NDgzNjQ3JnY9YmV0YSZ0PXIwaUM4cmpYT3F3YmtCZzA3aG9IcmZoZlgzN3hCdEFJdmJ3ZUdZblpuSEUiLCJlbWFpbCI6ImVzc2Ftd2lzYW1Ab3V0bG9vay5jb20iLCJlbWFpbF92ZXJpZmllZCI6InRydWUiLCJsb2NhbGUiOiJlbl9VUyJ9.Kb8m3mte4J5DYrVjbpxQ2hhxlbQ-2sMRToH57Xw-JJ6zga5tAHtBnx0yTcFEatHGJ9weL5LhHU3amwuhAg7vnsJB4v6d0bpA_TKU_kxNtLbS06LAxtP2joC-NEf52QhKTfNysKtIqI_RnWuCqwbPaVMxNT2cQoZgVg7nAWxVgHyKHzhQx0SrHJxSYAU4r9HWiDvLHXtWagJiRIjpU6qEOXE9Jf6QQQ_loq4pMiQOwlZLMuoFvL3ZoAZw-0a8cgDjqzGxs9dA8Bu-jH9HCMtVpNn4DgZnBY028kR06E7LhMGDl52Ef_yrDnrHjVKv3ARIf7VMSMn1aPtMUZFh9xRqTzTlzcZwRmBdJTrqBCjLXQu69zx8u_vYKQH64GouYYmOeMzR5BmC0g-n-KMUrZja96Sw7swsWLkVLqngf0v9fV5U7C4NpVXOrdMRLwCKbnTYUxRndbjNY0e6P5MUkht8-lzdvxtSEo38Z_ZQZPgCQBHbNDAopnY7bKfUXbRneXvH3Zmb21npUH3fDwU7zgLH2EHIuvGYwY5p8YdlSoJ86UB_53zgAiBRkWh_JsRwsQrMmHFEuqWMb7-bTwhDozq_nFHaGxh1GuYIL9sByhwk4shnemTqymg2weotrUsc8tKjmJGW3VfI2SpuP8mGvjRMEYJ9QTPo4mh6tlDp6n2Ya5k\n"
     ]
    }
   ],
   "source": [
    "returned = {'access_token': \n",
    " 'AQUQBeUsI_NHBnR3vmBvs6vh7KVV7FuRaVOtNAT9X6Xq678Vu42ZpK62nbW8_17IcdaMtZ0ZjDX9rzpPkHz4fv6ft02_acucAAsl5vgzlXb6cQE6h_0ZiHNtx_wPWZH3IhmjgTvyuHvxUmj-PfQjQVA4B0xFecAI8uwOquVF5jv_8vQTrssPpVP59oi_fUKsqOOI4-Oyhu8VYC_P1EHTuL_NHZ0G9VJilYelWptWmjqocD3Z0RhyYwik_Ufq6RIXsVr8PKGnvDiby5NT3SUtIbb7zCPBNSsPxAVuSLlNs6mSVKs9rUl2Hhb8K3NPb7tTe5Sgew-9MHh75rsDVuEl_W26PDgp9w', \n",
    " 'expires_in': 5183999, \n",
    " 'scope': 'email,openid,profile,w_member_social', \n",
    " 'token_type': 'Bearer', \n",
    " 'id_token': 'eyJ6aXAiOiJSUzI1NiIsInR5cCI6IkpXVCIsImtpZCI6ImQ5Mjk2NjhhLWJhYjEtNGM2OS05NTk4LTQzNzMxNDk3MjNmZiIsImFsZyI6IlJTMjU2In0.eyJpc3MiOiJodHRwczovL3d3dy5saW5rZWRpbi5jb20vb2F1dGgiLCJhdWQiOiI4NnkyYXlrYTk3MmhlYiIsImlhdCI6MTcyNjI0MTc0MywiZXhwIjoxNzI2MjQ1MzQzLCJzdWIiOiJLYjhWRUhtSnQyIiwibmFtZSI6IkVzc2FtIFdpc2FtIiwiZ2l2ZW5fbmFtZSI6IkVzc2FtIiwiZmFtaWx5X25hbWUiOiJXaXNhbSIsInBpY3R1cmUiOiJodHRwczovL21lZGlhLmxpY2RuLmNvbS9kbXMvaW1hZ2UvdjIvRDU2MDNBUUg3WEF3cF9uWkFVZy9wcm9maWxlLWRpc3BsYXlwaG90by1zaHJpbmtfMTAwXzEwMC9wcm9maWxlLWRpc3BsYXlwaG90by1zaHJpbmtfMTAwXzEwMC8wLzE3MjQ0NjA5NjA4MjI_ZT0yMTQ3NDgzNjQ3JnY9YmV0YSZ0PXIwaUM4cmpYT3F3YmtCZzA3aG9IcmZoZlgzN3hCdEFJdmJ3ZUdZblpuSEUiLCJlbWFpbCI6ImVzc2Ftd2lzYW1Ab3V0bG9vay5jb20iLCJlbWFpbF92ZXJpZmllZCI6InRydWUiLCJsb2NhbGUiOiJlbl9VUyJ9.Kb8m3mte4J5DYrVjbpxQ2hhxlbQ-2sMRToH57Xw-JJ6zga5tAHtBnx0yTcFEatHGJ9weL5LhHU3amwuhAg7vnsJB4v6d0bpA_TKU_kxNtLbS06LAxtP2joC-NEf52QhKTfNysKtIqI_RnWuCqwbPaVMxNT2cQoZgVg7nAWxVgHyKHzhQx0SrHJxSYAU4r9HWiDvLHXtWagJiRIjpU6qEOXE9Jf6QQQ_loq4pMiQOwlZLMuoFvL3ZoAZw-0a8cgDjqzGxs9dA8Bu-jH9HCMtVpNn4DgZnBY028kR06E7LhMGDl52Ef_yrDnrHjVKv3ARIf7VMSMn1aPtMUZFh9xRqTzTlzcZwRmBdJTrqBCjLXQu69zx8u_vYKQH64GouYYmOeMzR5BmC0g-n-KMUrZja96Sw7swsWLkVLqngf0v9fV5U7C4NpVXOrdMRLwCKbnTYUxRndbjNY0e6P5MUkht8-lzdvxtSEo38Z_ZQZPgCQBHbNDAopnY7bKfUXbRneXvH3Zmb21npUH3fDwU7zgLH2EHIuvGYwY5p8YdlSoJ86UB_53zgAiBRkWh_JsRwsQrMmHFEuqWMb7-bTwhDozq_nFHaGxh1GuYIL9sByhwk4shnemTqymg2weotrUsc8tKjmJGW3VfI2SpuP8mGvjRMEYJ9QTPo4mh6tlDp6n2Ya5k'}\n",
    "\n",
    "access_token = returned['access_token']\n",
    "id_token = returned['id_token']\n",
    "print(access_token)\n",
    "print(id_token)"
   ]
  },
  {
   "cell_type": "code",
   "execution_count": 97,
   "metadata": {},
   "outputs": [
    {
     "data": {
      "text/plain": [
       "{'sub': 'Kb8VEHmJt2',\n",
       " 'email_verified': True,\n",
       " 'name': 'Essam Wisam',\n",
       " 'locale': {'country': 'US', 'language': 'en'},\n",
       " 'given_name': 'Essam',\n",
       " 'family_name': 'Wisam',\n",
       " 'email': 'essamwisam@outlook.com',\n",
       " 'picture': 'https://media.licdn.com/dms/image/v2/D5603AQH7XAwp_nZAUg/profile-displayphoto-shrink_100_100/profile-displayphoto-shrink_100_100/0/1724460960822?e=1731542400&v=beta&t=fsh-NpmkNpMTgB46sLbz1ohqhKNVtNFNcmGTSAfhEao'}"
      ]
     },
     "execution_count": 97,
     "metadata": {},
     "output_type": "execute_result"
    }
   ],
   "source": [
    "def get_user_info(access_token):\n",
    "    URL = \"https://api.linkedin.com/v2/userinfo\"\n",
    "    headers = {\n",
    "        'Authorization': f'Bearer {access_token}'\n",
    "    }\n",
    "    \n",
    "    try:\n",
    "        r = requests.get(url=URL, headers=headers)\n",
    "        r.raise_for_status()\n",
    "        user_info = r.json()\n",
    "        return user_info\n",
    "    except requests.exceptions.RequestException as e:\n",
    "        print(f\"An error occurred: {e}\")\n",
    "        return None\n",
    "\n",
    "# Example usage:\n",
    "# auth_code = 'AUTHORIZATION_CODE_FROM_REDIRECT'\n",
    "# access_token = get_access_token(auth_code)\n",
    "# if access_token:\n",
    "#     user_info = get_user_info(access_token)\n",
    "#     print(user_info)\n",
    "get_user_info(access_token)"
   ]
  },
  {
   "cell_type": "markdown",
   "metadata": {},
   "source": [
    "#### Authorization/Authentication Done\n",
    "- Usually need to repeat very 60 days."
   ]
  },
  {
   "cell_type": "markdown",
   "metadata": {},
   "source": [
    "Get comment parameters from link"
   ]
  },
  {
   "cell_type": "code",
   "execution_count": 132,
   "metadata": {},
   "outputs": [
    {
     "name": "stdout",
     "output_type": "stream",
     "text": [
      "UGC Post URN: urn:li:ugcPost:7240344328370315264\n",
      "Comment ID: 7240395992146001920\n"
     ]
    }
   ],
   "source": [
    "import re\n",
    "from urllib.parse import unquote\n",
    "\n",
    "def extract_urns_from_linkedin_url(url):\n",
    "    decoded_url = unquote(url)\n",
    "    ugc_post_pattern = r'urn:li:ugcPost:\\d+'\n",
    "    comment_id_pattern = r'ugcPost:\\d+,\\d+'\n",
    "    \n",
    "    ugc_post_urn_match = re.search(ugc_post_pattern, decoded_url)\n",
    "    if ugc_post_urn_match:\n",
    "        ugc_post_urn = ugc_post_urn_match.group(0)\n",
    "    else:\n",
    "        ugc_post_urn = None\n",
    "    \n",
    "    comment_id_match = re.search(comment_id_pattern, decoded_url)\n",
    "    if comment_id_match:\n",
    "        comment_id = comment_id_match.group(0).split(',')[1]\n",
    "    else:\n",
    "        comment_id = None\n",
    "    \n",
    "    return ugc_post_urn, comment_id\n",
    "\n",
    "# Example usage:\n",
    "url = \"https://www.linkedin.com/feed/update/urn:li:ugcPost:7240344328370315264?commentUrn=urn%3Ali%3Acomment%3A%28ugcPost%3A7240344328370315264%2C7240395992146001920%29&replyUrn=urn%3Ali%3Acomment%3A%28ugcPost%3A7240344328370315264%2C7240396006863814658%29&dashCommentUrn=urn%3Ali%3Afsd_comment%3A%287240395992146001920%2Curn%3Ali%3AugcPost%3A7240344328370315264%29&dashReplyUrn=urn%3Ali%3Afsd_comment%3A%287240396006863814658%2Curn%3Ali%3AugcPost%3A7240344328370315264%29\"\n",
    "\n",
    "ugc_post_urn, comment_id = extract_urns_from_linkedin_url(url)\n",
    "\n",
    "print(\"UGC Post URN:\", ugc_post_urn)\n",
    "print(\"Comment ID:\", comment_id)"
   ]
  },
  {
   "cell_type": "code",
   "execution_count": 138,
   "metadata": {},
   "outputs": [
    {
     "data": {
      "text/plain": [
       "'7240396300788121600'"
      ]
     },
     "execution_count": 138,
     "metadata": {},
     "output_type": "execute_result"
    }
   ],
   "source": [
    "comment_id"
   ]
  },
  {
   "cell_type": "code",
   "execution_count": 139,
   "metadata": {},
   "outputs": [],
   "source": [
    "a = \"https://www.linkedin.com/feed/update/urn:li:ugcPost:7240344328370315264?commentUrn=urn%3Ali%3Acomment%3A%28ugcPost%3A7240344328370315264%2C7240396300788121600%29&replyUrn=urn%3Ali%3Acomment%3A%28ugcPost%3A7240344328370315264%2C7240396323122790401%29&dashCommentUrn=urn%3Ali%3Afsd_comment%3A%287240396300788121600%2Curn%3Ali%3AugcPost%3A7240344328370315264%29&dashReplyUrn=urn%3Ali%3Afsd_comment%3A%287240396323122790401%2Curn%3Ali%3AugcPost%3A7240344328370315264%29\"\n",
    "b = \"https://www.linkedin.com/feed/update/urn:li:ugcPost:7240344328370315264?commentUrn=urn%3Ali%3Acomment%3A%28ugcPost%3A7240344328370315264%2C7240396300788121600%29&dashCommentUrn=urn%3Ali%3Afsd_comment%3A%287240396300788121600%2Curn%3Ali%3AugcPost%3A7240344328370315264%29\"\n",
    "\n",
    "ugc_post_urn, comment_id = extract_urns_from_linkedin_url(a)        # WRONG FOR reply link (a) but correct for comment link (b)\n",
    "comment_id = \"7240396323122790401\"\n",
    "### NEED TO MODIFY FUNCTION to extract comment_id properly for replies"
   ]
  },
  {
   "cell_type": "markdown",
   "metadata": {},
   "source": [
    "#### Delete comment/reply"
   ]
  },
  {
   "cell_type": "code",
   "execution_count": 140,
   "metadata": {},
   "outputs": [
    {
     "name": "stdout",
     "output_type": "stream",
     "text": [
      "Comment deleted successfully.\n"
     ]
    }
   ],
   "source": [
    "import requests\n",
    "\n",
    "# https://www.linkedin.com/feed/update/urn:li:ugcPost:7240003949565558784?commentUrn=urn%3Ali%3Acomment%3A%28ugcPost%3A7240003949565558784%2C7240339899072077824%29&dashCommentUrn=urn%3Ali%3Afsd_comment%3A%287240339899072077824%2Curn%3Ali%3AugcPost%3A7240003949565558784%29\n",
    "\n",
    "actor_urn = 'urn:li:person:Kb8VEHmJt2'\n",
    "\n",
    "url = f'https://api.linkedin.com/v2/socialActions/{ugc_post_urn}/comments/{comment_id}?actor={actor_urn}'\n",
    "\n",
    "# Set up the headers with your access token\n",
    "headers = {\n",
    "    'Authorization': f'Bearer {access_token}',\n",
    "    'Content-Type': 'application/json',\n",
    "}\n",
    "\n",
    "# Make the DELETE request\n",
    "response = requests.delete(url, headers=headers)\n",
    "\n",
    "# Check the response status and print the result\n",
    "if response.status_code == 204:\n",
    "    print('Comment deleted successfully.')\n",
    "else:\n",
    "    print(f'Error: {response.status_code} - {response.text}')\n"
   ]
  },
  {
   "cell_type": "markdown",
   "metadata": {},
   "source": [
    "#### Create post\n",
    "From personal account"
   ]
  },
  {
   "cell_type": "code",
   "execution_count": 99,
   "metadata": {},
   "outputs": [
    {
     "name": "stdout",
     "output_type": "stream",
     "text": [
      "Post created successfully!\n"
     ]
    }
   ],
   "source": [
    "import requests\n",
    "import json\n",
    "\n",
    "# Define the headers\n",
    "headers = {\n",
    "    'Authorization': f'Bearer {access_token}',\n",
    "    'Content-Type': 'application/json',\n",
    "    'X-Restli-Protocol-Version': '2.0.0'\n",
    "}\n",
    "\n",
    "# Define the body of the request\n",
    "body = {\n",
    "    \"author\": \"urn:li:person:Kb8VEHmJt2\",\n",
    "    \"lifecycleState\": \"PUBLISHED\",\n",
    "    \"specificContent\": {\n",
    "        \"com.linkedin.ugc.ShareContent\": {\n",
    "            \"shareCommentary\": {\n",
    "                \"text\": \"Hello LinkedIn! This is a test post.\"\n",
    "            },\n",
    "            \"shareMediaCategory\": \"NONE\"\n",
    "        }\n",
    "    },\n",
    "    \"visibility\": {\n",
    "        \"com.linkedin.ugc.MemberNetworkVisibility\": \"PUBLIC\"\n",
    "    }\n",
    "}\n",
    "\n",
    "# Make the POST request\n",
    "response = requests.post('https://api.linkedin.com/v2/ugcPosts', headers=headers, data=json.dumps(body))\n",
    "\n",
    "# Check the response\n",
    "if response.status_code == 201:\n",
    "    print(\"Post created successfully!\")\n",
    "else:\n",
    "    print(f\"Failed to create post: {response.status_code}\")\n",
    "    print(response.json())\n"
   ]
  }
 ],
 "metadata": {
  "kernelspec": {
   "display_name": "m1",
   "language": "python",
   "name": "python3"
  },
  "language_info": {
   "codemirror_mode": {
    "name": "ipython",
    "version": 3
   },
   "file_extension": ".py",
   "mimetype": "text/x-python",
   "name": "python",
   "nbconvert_exporter": "python",
   "pygments_lexer": "ipython3",
   "version": "3.12.4"
  }
 },
 "nbformat": 4,
 "nbformat_minor": 2
}
