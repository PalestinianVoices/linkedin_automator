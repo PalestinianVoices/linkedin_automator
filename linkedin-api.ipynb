{
 "cells": [
  {
   "cell_type": "code",
   "execution_count": null,
   "metadata": {},
   "outputs": [],
   "source": [
    "# client id: 86y2ayka972heb\n",
    "# client secret: bOYoeX9NrG41tse2\n",
    "\n"
   ]
  },
  {
   "cell_type": "markdown",
   "metadata": {},
   "source": [
    "Get authorization link with OpenId"
   ]
  },
  {
   "cell_type": "code",
   "execution_count": 115,
   "metadata": {},
   "outputs": [
    {
     "name": "stdout",
     "output_type": "stream",
     "text": [
      "Please copy the URL and paste it in browser for getting authentication code\n",
      "\n",
      "https://www.linkedin.com/oauth/v2/authorization?response_type=code&client_id=86y2ayka972heb&redirect_uri=http%3A%2F%2Flocalhost%2F&scope=openid+profile+email+w_member_social_feed\n"
     ]
    }
   ],
   "source": [
    "import requests\n",
    "\n",
    "#get access_token by post with user & password\n",
    "#Step 1 - GET to request for authentication\n",
    "def get_auth_link():\n",
    "    URL = \"https://www.linkedin.com/oauth/v2/authorization\"\n",
    "    client_id=\"86y2ayka972heb\"\n",
    "    redirect_uri = 'http://localhost/'\n",
    "    scope = 'openid profile email w_member_social'  \n",
    "    PARAMS = {'response_type':'code', 'client_id':client_id,  'redirect_uri':redirect_uri, 'scope':scope}\n",
    "    r = requests.get(url = URL, params = PARAMS)\n",
    "    return_url = r.url\n",
    "    print('Please copy the URL and paste it in browser for getting authentication code')\n",
    "    print('')\n",
    "    print(return_url)\n",
    "\n",
    "get_auth_link()"
   ]
  },
  {
   "cell_type": "markdown",
   "metadata": {},
   "source": [
    "Get access token"
   ]
  },
  {
   "cell_type": "code",
   "execution_count": 52,
   "metadata": {},
   "outputs": [
    {
     "name": "stdout",
     "output_type": "stream",
     "text": [
      "{'error': 'invalid_request', 'error_description': 'Unable to retrieve access token: appid/redirect uri/code verifier does not match authorization code. Or authorization code expired. Or external member binding exists'}\n"
     ]
    },
    {
     "ename": "KeyError",
     "evalue": "'access_token'",
     "output_type": "error",
     "traceback": [
      "\u001b[1;31m---------------------------------------------------------------------------\u001b[0m",
      "\u001b[1;31mKeyError\u001b[0m                                  Traceback (most recent call last)",
      "Cell \u001b[1;32mIn[52], line 23\u001b[0m\n\u001b[0;32m     20\u001b[0m     access_token \u001b[38;5;241m=\u001b[39m data[\u001b[38;5;124m'\u001b[39m\u001b[38;5;124maccess_token\u001b[39m\u001b[38;5;124m'\u001b[39m]\n\u001b[0;32m     21\u001b[0m     \u001b[38;5;28;01mreturn\u001b[39;00m access_token\n\u001b[1;32m---> 23\u001b[0m \u001b[43mget_access_token\u001b[49m\u001b[43m(\u001b[49m\u001b[43m)\u001b[49m\n",
      "Cell \u001b[1;32mIn[52], line 20\u001b[0m, in \u001b[0;36mget_access_token\u001b[1;34m()\u001b[0m\n\u001b[0;32m     18\u001b[0m data \u001b[38;5;241m=\u001b[39m response\u001b[38;5;241m.\u001b[39mjson()\n\u001b[0;32m     19\u001b[0m \u001b[38;5;28mprint\u001b[39m(data)\n\u001b[1;32m---> 20\u001b[0m access_token \u001b[38;5;241m=\u001b[39m \u001b[43mdata\u001b[49m\u001b[43m[\u001b[49m\u001b[38;5;124;43m'\u001b[39;49m\u001b[38;5;124;43maccess_token\u001b[39;49m\u001b[38;5;124;43m'\u001b[39;49m\u001b[43m]\u001b[49m\n\u001b[0;32m     21\u001b[0m \u001b[38;5;28;01mreturn\u001b[39;00m access_token\n",
      "\u001b[1;31mKeyError\u001b[0m: 'access_token'"
     ]
    }
   ],
   "source": [
    "# AQQmxPtem7TwXufziGHixs8XikwVA9kcG9R8T9CFT34_lYbGaALRWB-L64SUnF3VRcEAHPdbbUlulft8bM-AU5DGhSrM8xfsr4ZylLBLCpM_pCspNh3R6GKIvFseHpShA-0G0Hp5AE3AM17jJ2WovkA5qiR2Sr10yGt1rRIdngqY0WzNV4jaAxQs8q9eA3RS7fL5lfUhN1sEfAzuKAg\n",
    "import requests\n",
    "import json\n",
    "\n",
    "def get_access_token():\n",
    "    headers = {'Content-Type': 'application/x-www-form-urlencoded', 'User-Agent': 'OAuth gem v0.4.4'}\n",
    "    AUTH_CODE = \"AQQmxPtem7TwXufziGHixs8XikwVA9kcG9R8T9CFT34_lYbGaALRWB-L64SUnF3VRcEAHPdbbUlulft8bM-AU5DGhSrM8xfsr4ZylLBLCpM_pCspNh3R6GKIvFseHpShA-0G0Hp5AE3AM17jJ2WovkA5qiR2Sr10yGt1rRIdngqY0WzNV4jaAxQs8q9eA3RS7fL5lfUhN1sEfAzuKAg\"\n",
    "    ACCESS_TOKEN_URL = 'https://www.linkedin.com/oauth/v2/accessToken'\n",
    "    client_id= \"86y2ayka972heb\"\n",
    "    client_secret= \"bOYoeX9NrG41tse2\"\n",
    "    redirect_uri = 'http://localhost/'\n",
    "    PARAM = {'grant_type': 'authorization_code',\n",
    "      'code': AUTH_CODE,\n",
    "      'redirect_uri': redirect_uri,\n",
    "      'client_id': client_id,\n",
    "      'client_secret': client_secret}\n",
    "    response = requests.post(ACCESS_TOKEN_URL, data=PARAM, headers=headers, timeout=600)\n",
    "    data = response.json()\n",
    "    print(data)\n",
    "    access_token = data['access_token']\n",
    "    return access_token\n",
    "\n",
    "get_access_token()"
   ]
  },
  {
   "cell_type": "code",
   "execution_count": 53,
   "metadata": {},
   "outputs": [
    {
     "name": "stdout",
     "output_type": "stream",
     "text": [
      "AQUQBeUsI_NHBnR3vmBvs6vh7KVV7FuRaVOtNAT9X6Xq678Vu42ZpK62nbW8_17IcdaMtZ0ZjDX9rzpPkHz4fv6ft02_acucAAsl5vgzlXb6cQE6h_0ZiHNtx_wPWZH3IhmjgTvyuHvxUmj-PfQjQVA4B0xFecAI8uwOquVF5jv_8vQTrssPpVP59oi_fUKsqOOI4-Oyhu8VYC_P1EHTuL_NHZ0G9VJilYelWptWmjqocD3Z0RhyYwik_Ufq6RIXsVr8PKGnvDiby5NT3SUtIbb7zCPBNSsPxAVuSLlNs6mSVKs9rUl2Hhb8K3NPb7tTe5Sgew-9MHh75rsDVuEl_W26PDgp9w\n",
      "eyJ6aXAiOiJSUzI1NiIsInR5cCI6IkpXVCIsImtpZCI6ImQ5Mjk2NjhhLWJhYjEtNGM2OS05NTk4LTQzNzMxNDk3MjNmZiIsImFsZyI6IlJTMjU2In0.eyJpc3MiOiJodHRwczovL3d3dy5saW5rZWRpbi5jb20vb2F1dGgiLCJhdWQiOiI4NnkyYXlrYTk3MmhlYiIsImlhdCI6MTcyNjI0MTc0MywiZXhwIjoxNzI2MjQ1MzQzLCJzdWIiOiJLYjhWRUhtSnQyIiwibmFtZSI6IkVzc2FtIFdpc2FtIiwiZ2l2ZW5fbmFtZSI6IkVzc2FtIiwiZmFtaWx5X25hbWUiOiJXaXNhbSIsInBpY3R1cmUiOiJodHRwczovL21lZGlhLmxpY2RuLmNvbS9kbXMvaW1hZ2UvdjIvRDU2MDNBUUg3WEF3cF9uWkFVZy9wcm9maWxlLWRpc3BsYXlwaG90by1zaHJpbmtfMTAwXzEwMC9wcm9maWxlLWRpc3BsYXlwaG90by1zaHJpbmtfMTAwXzEwMC8wLzE3MjQ0NjA5NjA4MjI_ZT0yMTQ3NDgzNjQ3JnY9YmV0YSZ0PXIwaUM4cmpYT3F3YmtCZzA3aG9IcmZoZlgzN3hCdEFJdmJ3ZUdZblpuSEUiLCJlbWFpbCI6ImVzc2Ftd2lzYW1Ab3V0bG9vay5jb20iLCJlbWFpbF92ZXJpZmllZCI6InRydWUiLCJsb2NhbGUiOiJlbl9VUyJ9.Kb8m3mte4J5DYrVjbpxQ2hhxlbQ-2sMRToH57Xw-JJ6zga5tAHtBnx0yTcFEatHGJ9weL5LhHU3amwuhAg7vnsJB4v6d0bpA_TKU_kxNtLbS06LAxtP2joC-NEf52QhKTfNysKtIqI_RnWuCqwbPaVMxNT2cQoZgVg7nAWxVgHyKHzhQx0SrHJxSYAU4r9HWiDvLHXtWagJiRIjpU6qEOXE9Jf6QQQ_loq4pMiQOwlZLMuoFvL3ZoAZw-0a8cgDjqzGxs9dA8Bu-jH9HCMtVpNn4DgZnBY028kR06E7LhMGDl52Ef_yrDnrHjVKv3ARIf7VMSMn1aPtMUZFh9xRqTzTlzcZwRmBdJTrqBCjLXQu69zx8u_vYKQH64GouYYmOeMzR5BmC0g-n-KMUrZja96Sw7swsWLkVLqngf0v9fV5U7C4NpVXOrdMRLwCKbnTYUxRndbjNY0e6P5MUkht8-lzdvxtSEo38Z_ZQZPgCQBHbNDAopnY7bKfUXbRneXvH3Zmb21npUH3fDwU7zgLH2EHIuvGYwY5p8YdlSoJ86UB_53zgAiBRkWh_JsRwsQrMmHFEuqWMb7-bTwhDozq_nFHaGxh1GuYIL9sByhwk4shnemTqymg2weotrUsc8tKjmJGW3VfI2SpuP8mGvjRMEYJ9QTPo4mh6tlDp6n2Ya5k\n"
     ]
    }
   ],
   "source": [
    "returned = {'access_token': \n",
    " 'AQUQBeUsI_NHBnR3vmBvs6vh7KVV7FuRaVOtNAT9X6Xq678Vu42ZpK62nbW8_17IcdaMtZ0ZjDX9rzpPkHz4fv6ft02_acucAAsl5vgzlXb6cQE6h_0ZiHNtx_wPWZH3IhmjgTvyuHvxUmj-PfQjQVA4B0xFecAI8uwOquVF5jv_8vQTrssPpVP59oi_fUKsqOOI4-Oyhu8VYC_P1EHTuL_NHZ0G9VJilYelWptWmjqocD3Z0RhyYwik_Ufq6RIXsVr8PKGnvDiby5NT3SUtIbb7zCPBNSsPxAVuSLlNs6mSVKs9rUl2Hhb8K3NPb7tTe5Sgew-9MHh75rsDVuEl_W26PDgp9w', \n",
    " 'expires_in': 5183999, \n",
    " 'scope': 'email,openid,profile,w_member_social', \n",
    " 'token_type': 'Bearer', \n",
    " 'id_token': 'eyJ6aXAiOiJSUzI1NiIsInR5cCI6IkpXVCIsImtpZCI6ImQ5Mjk2NjhhLWJhYjEtNGM2OS05NTk4LTQzNzMxNDk3MjNmZiIsImFsZyI6IlJTMjU2In0.eyJpc3MiOiJodHRwczovL3d3dy5saW5rZWRpbi5jb20vb2F1dGgiLCJhdWQiOiI4NnkyYXlrYTk3MmhlYiIsImlhdCI6MTcyNjI0MTc0MywiZXhwIjoxNzI2MjQ1MzQzLCJzdWIiOiJLYjhWRUhtSnQyIiwibmFtZSI6IkVzc2FtIFdpc2FtIiwiZ2l2ZW5fbmFtZSI6IkVzc2FtIiwiZmFtaWx5X25hbWUiOiJXaXNhbSIsInBpY3R1cmUiOiJodHRwczovL21lZGlhLmxpY2RuLmNvbS9kbXMvaW1hZ2UvdjIvRDU2MDNBUUg3WEF3cF9uWkFVZy9wcm9maWxlLWRpc3BsYXlwaG90by1zaHJpbmtfMTAwXzEwMC9wcm9maWxlLWRpc3BsYXlwaG90by1zaHJpbmtfMTAwXzEwMC8wLzE3MjQ0NjA5NjA4MjI_ZT0yMTQ3NDgzNjQ3JnY9YmV0YSZ0PXIwaUM4cmpYT3F3YmtCZzA3aG9IcmZoZlgzN3hCdEFJdmJ3ZUdZblpuSEUiLCJlbWFpbCI6ImVzc2Ftd2lzYW1Ab3V0bG9vay5jb20iLCJlbWFpbF92ZXJpZmllZCI6InRydWUiLCJsb2NhbGUiOiJlbl9VUyJ9.Kb8m3mte4J5DYrVjbpxQ2hhxlbQ-2sMRToH57Xw-JJ6zga5tAHtBnx0yTcFEatHGJ9weL5LhHU3amwuhAg7vnsJB4v6d0bpA_TKU_kxNtLbS06LAxtP2joC-NEf52QhKTfNysKtIqI_RnWuCqwbPaVMxNT2cQoZgVg7nAWxVgHyKHzhQx0SrHJxSYAU4r9HWiDvLHXtWagJiRIjpU6qEOXE9Jf6QQQ_loq4pMiQOwlZLMuoFvL3ZoAZw-0a8cgDjqzGxs9dA8Bu-jH9HCMtVpNn4DgZnBY028kR06E7LhMGDl52Ef_yrDnrHjVKv3ARIf7VMSMn1aPtMUZFh9xRqTzTlzcZwRmBdJTrqBCjLXQu69zx8u_vYKQH64GouYYmOeMzR5BmC0g-n-KMUrZja96Sw7swsWLkVLqngf0v9fV5U7C4NpVXOrdMRLwCKbnTYUxRndbjNY0e6P5MUkht8-lzdvxtSEo38Z_ZQZPgCQBHbNDAopnY7bKfUXbRneXvH3Zmb21npUH3fDwU7zgLH2EHIuvGYwY5p8YdlSoJ86UB_53zgAiBRkWh_JsRwsQrMmHFEuqWMb7-bTwhDozq_nFHaGxh1GuYIL9sByhwk4shnemTqymg2weotrUsc8tKjmJGW3VfI2SpuP8mGvjRMEYJ9QTPo4mh6tlDp6n2Ya5k'}\n",
    "\n",
    "access_token = returned['access_token']\n",
    "id_token = returned['id_token']\n",
    "print(access_token)\n",
    "print(id_token)"
   ]
  },
  {
   "cell_type": "code",
   "execution_count": 97,
   "metadata": {},
   "outputs": [
    {
     "data": {
      "text/plain": [
       "{'sub': 'Kb8VEHmJt2',\n",
       " 'email_verified': True,\n",
       " 'name': 'Essam Wisam',\n",
       " 'locale': {'country': 'US', 'language': 'en'},\n",
       " 'given_name': 'Essam',\n",
       " 'family_name': 'Wisam',\n",
       " 'email': 'essamwisam@outlook.com',\n",
       " 'picture': 'https://media.licdn.com/dms/image/v2/D5603AQH7XAwp_nZAUg/profile-displayphoto-shrink_100_100/profile-displayphoto-shrink_100_100/0/1724460960822?e=1731542400&v=beta&t=fsh-NpmkNpMTgB46sLbz1ohqhKNVtNFNcmGTSAfhEao'}"
      ]
     },
     "execution_count": 97,
     "metadata": {},
     "output_type": "execute_result"
    }
   ],
   "source": [
    "def get_user_info(access_token):\n",
    "    URL = \"https://api.linkedin.com/v2/userinfo\"\n",
    "    headers = {\n",
    "        'Authorization': f'Bearer {access_token}'\n",
    "    }\n",
    "    \n",
    "    try:\n",
    "        r = requests.get(url=URL, headers=headers)\n",
    "        r.raise_for_status()\n",
    "        user_info = r.json()\n",
    "        return user_info\n",
    "    except requests.exceptions.RequestException as e:\n",
    "        print(f\"An error occurred: {e}\")\n",
    "        return None\n",
    "\n",
    "# Example usage:\n",
    "# auth_code = 'AUTHORIZATION_CODE_FROM_REDIRECT'\n",
    "# access_token = get_access_token(auth_code)\n",
    "# if access_token:\n",
    "#     user_info = get_user_info(access_token)\n",
    "#     print(user_info)\n",
    "get_user_info(access_token)"
   ]
  },
  {
   "cell_type": "markdown",
   "metadata": {},
   "source": [
    "#### Authorization/Authentication Done\n",
    "- Usually need to repeat very 60 days."
   ]
  },
  {
   "cell_type": "markdown",
   "metadata": {},
   "source": [
    "Get comment parameters from link"
   ]
  },
  {
   "cell_type": "code",
   "execution_count": 48,
   "metadata": {},
   "outputs": [],
   "source": [
    "import re\n",
    "from urllib.parse import unquote\n",
    "\n",
    "def extract_urns_from_linkedin_url(url):\n",
    "    # Decode the URL\n",
    "    decoded_url = unquote(url)\n",
    "    \n",
    "    # Pattern to identify UGC post URN\n",
    "    ugc_post_pattern = r'urn:li:ugcPost:\\d+'\n",
    "    \n",
    "    # Pattern to identify comment ID (ugcPost + comment ID)\n",
    "    comment_id_pattern = r'ugcPost:\\d+,\\d+'\n",
    "    \n",
    "    # Pattern to identify reply ID from the replyUrn section\n",
    "    reply_id_pattern = r'replyUrn=urn:li:comment:\\(ugcPost:\\d+,\\d+\\)'\n",
    "    \n",
    "        \n",
    "    # Extract UGC post URN\n",
    "    ugc_post_urn_match = re.search(ugc_post_pattern, decoded_url)\n",
    "    ugc_post_urn = ugc_post_urn_match.group(0) if ugc_post_urn_match else None\n",
    "    \n",
    "    # Extract reply ID if present\n",
    "    reply_id_match = re.search(reply_id_pattern, decoded_url)\n",
    "    reply_id = None\n",
    "    if reply_id_match:\n",
    "        # Split by ',' and extract the second part, then remove the closing parenthesis\n",
    "        reply_id = reply_id_match.group(0).split(',')[1].split(')')[0]\n",
    "        return ugc_post_urn,reply_id\n",
    "    \n",
    "    # If no reply found, look for comment ID\n",
    "    comment_id_match = re.search(comment_id_pattern, decoded_url)\n",
    "    if comment_id_match:\n",
    "        comment_id = comment_id_match.group(0).split(',')[1]\n",
    "        return ugc_post_urn, comment_id  # Return UGC post URN and comment ID\n",
    "    \n",
    "    # Return UGC post URN and None if neither is found\n",
    "    return ugc_post_urn, None"
   ]
  },
  {
   "cell_type": "markdown",
   "metadata": {},
   "source": [
    "#### Delete comment/reply"
   ]
  },
  {
   "cell_type": "code",
   "execution_count": 60,
   "metadata": {},
   "outputs": [],
   "source": [
    "import requests\n",
    "\n",
    "def delete_comment_or_reply(actor_urn,access_token, ugc_post_urn,comment_id):\n",
    "    url = f'https://api.linkedin.com/v2/socialActions/{ugc_post_urn}/comments/{comment_id}?actor={actor_urn}'\n",
    "    \n",
    "    # Set up the headers with your access token\n",
    "    headers = {\n",
    "        'Authorization': f'Bearer {access_token}',\n",
    "        'Content-Type': 'application/json',\n",
    "    }\n",
    "\n",
    "    # Make the DELETE request\n",
    "    response = requests.delete(url, headers=headers)\n",
    "    \n",
    "    # Check the response status and print an indicative response message\n",
    "    if response.status_code == 204:\n",
    "        return True,'Comment deleted successfully.'\n",
    "    else:\n",
    "        return False,f'Error: {response.status_code} - {response.text}'\n"
   ]
  },
  {
   "cell_type": "code",
   "execution_count": 98,
   "metadata": {},
   "outputs": [],
   "source": [
    "def delete_multiple_comments_or_replies(actor_urn,access_token,comments_list):\n",
    "    \n",
    "    # for each comment, get the URN and comment ID and delete the comment\n",
    "    # add the failed comments to a list and return it\n",
    "    failed_comments = []\n",
    "    for comment_link in comments_list:\n",
    "        ugc_post_urn,comment_id = extract_urns_from_linkedin_url(comment_link)\n",
    "        status,message = delete_comment_or_reply(actor_urn,access_token,ugc_post_urn,comment_id)\n",
    "        if not status:\n",
    "            failed_comments.append({\"comment_link\":comment_link,\"Response\": message}) \n",
    "\n",
    "    return failed_comments\n",
    "\n"
   ]
  },
  {
   "cell_type": "code",
   "execution_count": 95,
   "metadata": {},
   "outputs": [],
   "source": [
    "link1=\"https://www.linkedin.com/feed/update/urn:li:ugcPost:7243318129068548096?commentUrn=urn%3Ali%3Acomment%3A%28ugcPost%3A7243318129068548096%2C7243632884668911616%29&replyUrn=urn%3Ali%3Acomment%3A%28ugcPost%3A7243318129068548096%2C7243632918441455616%29&dashCommentUrn=urn%3Ali%3Afsd_comment%3A%287243632884668911616%2Curn%3Ali%3AugcPost%3A7243318129068548096%29&dashReplyUrn=urn%3Ali%3Afsd_comment%3A%287243632918441455616%2Curn%3Ali%3AugcPost%3A7243318129068548096%29\"\n",
    "link2=link1\n",
    "link3=\"https://www.linkedin.com/feed/update/urn:li:ugcPost:7243318129068548096?commentUrn=urn%3Ali%3Acomment%3A%28ugcPost%3A7243318129068548096%2C7243632884668911616%29&dashCommentUrn=urn%3Ali%3Afsd_comment%3A%287243632884668911616%2Curn%3Ali%3AugcPost%3A7243318129068548096%29\"\n",
    "link4=\"https://www.linkedin.com/feed/update/urn:li:ugcPost:7243318129068548096?commentUrn=urn%3Ali%3Acomment%3A%28ugcPost%3A7243318129068548096%2C7243632884668911616%29&replyUrn=urn%3Ali%3Acomment%3A%28ugcPost%3A7243318129068548096%2C7243632955959463937%29&dashCommentUrn=urn%3Ali%3Afsd_comment%3A%287243632884668911616%2Curn%3Ali%3AugcPost%3A7243318129068548096%29&dashReplyUrn=urn%3Ali%3Afsd_comment%3A%287243632955959463937%2Curn%3Ali%3AugcPost%3A7243318129068548096%29\"\n",
    "links=[link1,link2,link3,link4]\n",
    "\n",
    "actor_urn = 'urn:li:person:Kb8VEHmJt2'\n",
    "\n",
    "stats=delete_multiple_comments_or_replies(actor_urn,access_token,links)"
   ]
  },
  {
   "cell_type": "code",
   "execution_count": 61,
   "metadata": {},
   "outputs": [
    {
     "data": {
      "text/plain": [
       "(True, 'Comment deleted successfully.')"
      ]
     },
     "execution_count": 61,
     "metadata": {},
     "output_type": "execute_result"
    }
   ],
   "source": [
    "actor_urn = 'urn:li:person:Kb8VEHmJt2'\n",
    "link=\"https://www.linkedin.com/feed/update/urn:li:ugcPost:7243559717816410112?commentUrn=urn%3Ali%3Acomment%3A%28ugcPost%3A7243559717816410112%2C7243604878176993281%29&dashCommentUrn=urn%3Ali%3Afsd_comment%3A%287243604878176993281%2Curn%3Ali%3AugcPost%3A7243559717816410112%29\"\n",
    "ugc_post_urn,comment_id=extract_urns_from_linkedin_url(link)\n",
    "\n",
    "delete_comment_or_reply(actor_urn,access_token,ugc_post_urn,comment_id)"
   ]
  },
  {
   "cell_type": "markdown",
   "metadata": {},
   "source": [
    "#### Create post\n",
    "From personal account"
   ]
  },
  {
   "cell_type": "code",
   "execution_count": 99,
   "metadata": {},
   "outputs": [
    {
     "name": "stdout",
     "output_type": "stream",
     "text": [
      "Post created successfully!\n"
     ]
    }
   ],
   "source": [
    "import requests\n",
    "import json\n",
    "\n",
    "# Define the headers\n",
    "headers = {\n",
    "    'Authorization': f'Bearer {access_token}',\n",
    "    'Content-Type': 'application/json',\n",
    "    'X-Restli-Protocol-Version': '2.0.0'\n",
    "}\n",
    "\n",
    "# Define the body of the request\n",
    "body = {\n",
    "    \"author\": \"urn:li:person:Kb8VEHmJt2\",\n",
    "    \"lifecycleState\": \"PUBLISHED\",\n",
    "    \"specificContent\": {\n",
    "        \"com.linkedin.ugc.ShareContent\": {\n",
    "            \"shareCommentary\": {\n",
    "                \"text\": \"Hello LinkedIn! This is a test post.\"\n",
    "            },\n",
    "            \"shareMediaCategory\": \"NONE\"\n",
    "        }\n",
    "    },\n",
    "    \"visibility\": {\n",
    "        \"com.linkedin.ugc.MemberNetworkVisibility\": \"PUBLIC\"\n",
    "    }\n",
    "}\n",
    "\n",
    "# Make the POST request\n",
    "response = requests.post('https://api.linkedin.com/v2/ugcPosts', headers=headers, data=json.dumps(body))\n",
    "\n",
    "# Check the response\n",
    "if response.status_code == 201:\n",
    "    print(\"Post created successfully!\")\n",
    "else:\n",
    "    print(f\"Failed to create post: {response.status_code}\")\n",
    "    print(response.json())\n"
   ]
  }
 ],
 "metadata": {
  "kernelspec": {
   "display_name": "m1",
   "language": "python",
   "name": "python3"
  },
  "language_info": {
   "codemirror_mode": {
    "name": "ipython",
    "version": 3
   },
   "file_extension": ".py",
   "mimetype": "text/x-python",
   "name": "python",
   "nbconvert_exporter": "python",
   "pygments_lexer": "ipython3",
   "version": "3.11.1"
  }
 },
 "nbformat": 4,
 "nbformat_minor": 2
}
